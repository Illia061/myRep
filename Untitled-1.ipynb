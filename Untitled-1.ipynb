{
 "cells": [
  {
   "cell_type": "code",
   "execution_count": 1,
   "metadata": {},
   "outputs": [
    {
     "name": "stdout",
     "output_type": "stream",
     "text": [
      "2\n"
     ]
    }
   ],
   "source": [
    "b=input()\n",
    "print(b)"
   ]
  },
  {
   "cell_type": "code",
   "execution_count": 2,
   "metadata": {},
   "outputs": [
    {
     "name": "stdout",
     "output_type": "stream",
     "text": [
      "Odd\n"
     ]
    }
   ],
   "source": [
    "text=input('Enter Number: ').strip()\n",
    "num=int(text)\n",
    "if num%2==0:\n",
    "    print('Even')\n",
    "else: print('Odd')\n"
   ]
  },
  {
   "cell_type": "code",
   "execution_count": 3,
   "metadata": {},
   "outputs": [
    {
     "name": "stdout",
     "output_type": "stream",
     "text": [
      "Small\n"
     ]
    }
   ],
   "source": [
    "area=int(input('Enter Number: ').strip())\n",
    "if area>100:\n",
    "    print('Big')\n",
    "else: print('Small')"
   ]
  },
  {
   "cell_type": "code",
   "execution_count": 4,
   "metadata": {},
   "outputs": [
    {
     "ename": "KeyboardInterrupt",
     "evalue": "Interrupted by user",
     "output_type": "error",
     "traceback": [
      "\u001b[1;31m---------------------------------------------------------------------------\u001b[0m",
      "\u001b[1;31mKeyboardInterrupt\u001b[0m                         Traceback (most recent call last)",
      "\u001b[1;32mUntitled-1.ipynb Cell 4\u001b[0m line \u001b[0;36m3\n\u001b[0;32m      <a href='vscode-notebook-cell:Untitled-1.ipynb?jupyter-notebook#W3sdW50aXRsZWQ%3D?line=0'>1</a>\u001b[0m Figure\u001b[39m=\u001b[39m\u001b[39minput\u001b[39m(\u001b[39m'\u001b[39m\u001b[39mEnter Figure: \u001b[39m\u001b[39m'\u001b[39m)\u001b[39m.\u001b[39mstrip()\n\u001b[0;32m      <a href='vscode-notebook-cell:Untitled-1.ipynb?jupyter-notebook#W3sdW50aXRsZWQ%3D?line=1'>2</a>\u001b[0m h\u001b[39m=\u001b[39m\u001b[39mint\u001b[39m(\u001b[39minput\u001b[39m(\u001b[39m'\u001b[39m\u001b[39mEnter Height: \u001b[39m\u001b[39m'\u001b[39m)\u001b[39m.\u001b[39mstrip())\n\u001b[1;32m----> <a href='vscode-notebook-cell:Untitled-1.ipynb?jupyter-notebook#W3sdW50aXRsZWQ%3D?line=2'>3</a>\u001b[0m w\u001b[39m=\u001b[39m\u001b[39mint\u001b[39m(\u001b[39minput\u001b[39;49m(\u001b[39m'\u001b[39;49m\u001b[39mEnter Width: \u001b[39;49m\u001b[39m'\u001b[39;49m)\u001b[39m.\u001b[39mstrip())\n\u001b[0;32m      <a href='vscode-notebook-cell:Untitled-1.ipynb?jupyter-notebook#W3sdW50aXRsZWQ%3D?line=3'>4</a>\u001b[0m \u001b[39mif\u001b[39;00m h\u001b[39m*\u001b[39mw\u001b[39m>\u001b[39m\u001b[39m100\u001b[39m:\n\u001b[0;32m      <a href='vscode-notebook-cell:Untitled-1.ipynb?jupyter-notebook#W3sdW50aXRsZWQ%3D?line=4'>5</a>\u001b[0m     \u001b[39mprint\u001b[39m(\u001b[39m'\u001b[39m\u001b[39mBig\u001b[39m\u001b[39m'\u001b[39m)\n",
      "File \u001b[1;32m~\\AppData\\Roaming\\Python\\Python311\\site-packages\\ipykernel\\kernelbase.py:1202\u001b[0m, in \u001b[0;36mKernel.raw_input\u001b[1;34m(self, prompt)\u001b[0m\n\u001b[0;32m   1200\u001b[0m     msg \u001b[39m=\u001b[39m \u001b[39m\"\u001b[39m\u001b[39mraw_input was called, but this frontend does not support input requests.\u001b[39m\u001b[39m\"\u001b[39m\n\u001b[0;32m   1201\u001b[0m     \u001b[39mraise\u001b[39;00m StdinNotImplementedError(msg)\n\u001b[1;32m-> 1202\u001b[0m \u001b[39mreturn\u001b[39;00m \u001b[39mself\u001b[39;49m\u001b[39m.\u001b[39;49m_input_request(\n\u001b[0;32m   1203\u001b[0m     \u001b[39mstr\u001b[39;49m(prompt),\n\u001b[0;32m   1204\u001b[0m     \u001b[39mself\u001b[39;49m\u001b[39m.\u001b[39;49m_parent_ident[\u001b[39m\"\u001b[39;49m\u001b[39mshell\u001b[39;49m\u001b[39m\"\u001b[39;49m],\n\u001b[0;32m   1205\u001b[0m     \u001b[39mself\u001b[39;49m\u001b[39m.\u001b[39;49mget_parent(\u001b[39m\"\u001b[39;49m\u001b[39mshell\u001b[39;49m\u001b[39m\"\u001b[39;49m),\n\u001b[0;32m   1206\u001b[0m     password\u001b[39m=\u001b[39;49m\u001b[39mFalse\u001b[39;49;00m,\n\u001b[0;32m   1207\u001b[0m )\n",
      "File \u001b[1;32m~\\AppData\\Roaming\\Python\\Python311\\site-packages\\ipykernel\\kernelbase.py:1245\u001b[0m, in \u001b[0;36mKernel._input_request\u001b[1;34m(self, prompt, ident, parent, password)\u001b[0m\n\u001b[0;32m   1242\u001b[0m \u001b[39mexcept\u001b[39;00m \u001b[39mKeyboardInterrupt\u001b[39;00m:\n\u001b[0;32m   1243\u001b[0m     \u001b[39m# re-raise KeyboardInterrupt, to truncate traceback\u001b[39;00m\n\u001b[0;32m   1244\u001b[0m     msg \u001b[39m=\u001b[39m \u001b[39m\"\u001b[39m\u001b[39mInterrupted by user\u001b[39m\u001b[39m\"\u001b[39m\n\u001b[1;32m-> 1245\u001b[0m     \u001b[39mraise\u001b[39;00m \u001b[39mKeyboardInterrupt\u001b[39;00m(msg) \u001b[39mfrom\u001b[39;00m \u001b[39mNone\u001b[39;00m\n\u001b[0;32m   1246\u001b[0m \u001b[39mexcept\u001b[39;00m \u001b[39mException\u001b[39;00m:\n\u001b[0;32m   1247\u001b[0m     \u001b[39mself\u001b[39m\u001b[39m.\u001b[39mlog\u001b[39m.\u001b[39mwarning(\u001b[39m\"\u001b[39m\u001b[39mInvalid Message:\u001b[39m\u001b[39m\"\u001b[39m, exc_info\u001b[39m=\u001b[39m\u001b[39mTrue\u001b[39;00m)\n",
      "\u001b[1;31mKeyboardInterrupt\u001b[0m: Interrupted by user"
     ]
    }
   ],
   "source": [
    "Figure=input('Enter Figure: ').strip()\n",
    "h=int(input('Enter Height: ').strip())\n",
    "w=int(input('Enter Width: ').strip())\n",
    "if h*w>100:\n",
    "    print('Big')\n",
    "elif h*w>0 and h*w<=100:\n",
    "    print('Small')\n",
    "else: print('Error')"
   ]
  },
  {
   "cell_type": "code",
   "execution_count": null,
   "metadata": {},
   "outputs": [
    {
     "name": "stdout",
     "output_type": "stream",
     "text": [
      "[0, 1, 2, 3, 4, 5, 6, 7, 8, 9]\n"
     ]
    }
   ],
   "source": [
    "arr=[]\n",
    "for i in range(0,10):\n",
    "    arr.append(i)\n",
    "print(arr)"
   ]
  },
  {
   "cell_type": "code",
   "execution_count": null,
   "metadata": {},
   "outputs": [
    {
     "name": "stdout",
     "output_type": "stream",
     "text": [
      "6\n"
     ]
    }
   ],
   "source": [
    "#Task1\n",
    "min=int(input('Enter MIN: ').strip())\n",
    "max=int(input('Enter MAX: ').strip())\n",
    "if min>max:\n",
    "    print('Некоректне значення, min більше max')\n",
    "arr=[]\n",
    "sum_even=0\n",
    "for i in range(min,max+1):\n",
    "    arr.append(i)\n",
    "    if i%2==0:\n",
    "        sum_even+=i\n",
    "print(sum_even)"
   ]
  },
  {
   "cell_type": "code",
   "execution_count": null,
   "metadata": {},
   "outputs": [
    {
     "name": "stdout",
     "output_type": "stream",
     "text": [
      "2\n"
     ]
    }
   ],
   "source": [
    "#Task2\n",
    "vowels=['a','o','i','e','u']\n",
    "text=input('Enter your text: ').strip().lower()\n",
    "count_vowels=0\n",
    "for i in text:\n",
    "    if i in vowels:\n",
    "        count_vowels+=1\n",
    "print(count_vowels)"
   ]
  },
  {
   "cell_type": "code",
   "execution_count": null,
   "metadata": {},
   "outputs": [
    {
     "name": "stdout",
     "output_type": "stream",
     "text": [
      "1062\n"
     ]
    }
   ],
   "source": [
    "#Task3\n",
    "text=input('Enter your text: ').strip()\n",
    "sum_text=0\n",
    "for i in range(len(text)):\n",
    "    sum_text+=ord(text[i])\n",
    "print(sum_text)"
   ]
  },
  {
   "cell_type": "code",
   "execution_count": null,
   "metadata": {},
   "outputs": [
    {
     "name": "stdout",
     "output_type": "stream",
     "text": [
      "В тексті всі символи цифри\n"
     ]
    }
   ],
   "source": [
    "#Task4\n",
    "text=input('Enter your text: ').strip()\n",
    "check=0\n",
    "for i in text:\n",
    "    if i.isalpha():\n",
    "        print('В тексті НЕ всі символи цифри')\n",
    "        check=1\n",
    "        break\n",
    "if check==0:\n",
    "    print('В тексті всі символи цифри')"
   ]
  },
  {
   "cell_type": "code",
   "execution_count": null,
   "metadata": {},
   "outputs": [
    {
     "name": "stdout",
     "output_type": "stream",
     "text": [
      "2\n",
      "4\n",
      "8\n",
      "16\n",
      "32\n",
      "64\n",
      "128\n",
      "256\n",
      "512\n",
      "1024\n"
     ]
    }
   ],
   "source": [
    "#Task5\n",
    "num=int(input('Enter number: ').strip())\n",
    "for i in range(1,11):\n",
    "    print(num**i)\n",
    "    \n",
    "#Task6\n",
    "text=input('Enter your text: ').strip().lower()\n",
    "if text[0]==text[-1]:\n",
    "    print('Перший і останній символи однакові')\n",
    "else: print('Перший і останній символи НЕ однакові')"
   ]
  },
  {
   "cell_type": "code",
   "execution_count": null,
   "metadata": {},
   "outputs": [
    {
     "name": "stdout",
     "output_type": "stream",
     "text": [
      "Перший і останній символи НЕ однакові\n"
     ]
    }
   ],
   "source": [
    "#Task5\n",
    "text=input('Enter your text: ').strip().lower()\n",
    "if text[0]==text[-1]:\n",
    "    print('Перший і останній символи однакові')\n",
    "else: print('Перший і останній символи НЕ однакові')"
   ]
  },
  {
   "cell_type": "code",
   "execution_count": null,
   "metadata": {},
   "outputs": [
    {
     "ename": "SyntaxError",
     "evalue": "invalid syntax (2460084664.py, line 4)",
     "output_type": "error",
     "traceback": [
      "\u001b[1;36m  Cell \u001b[1;32mIn[24], line 4\u001b[1;36m\u001b[0m\n\u001b[1;33m    if text.is\u001b[0m\n\u001b[1;37m            ^\u001b[0m\n\u001b[1;31mSyntaxError\u001b[0m\u001b[1;31m:\u001b[0m invalid syntax\n"
     ]
    }
   ],
   "source": [
    "#Task7\n",
    "text=input('Enter your password: ').strip()\n",
    "spec_char=['!','@','#','$','%','^','&','*','(',')','-','_','+','=','`','~']\n",
    "level=0\n",
    "for i in text:\n",
    "    if i in spec_char:\n",
    "        level+=15\n",
    "    if i.isupper():\n",
    "        level+=1\n"
   ]
  },
  {
   "cell_type": "code",
   "execution_count": null,
   "metadata": {},
   "outputs": [
    {
     "ename": "ModuleNotFoundError",
     "evalue": "No module named 'request'",
     "output_type": "error",
     "traceback": [
      "\u001b[1;31m---------------------------------------------------------------------------\u001b[0m",
      "\u001b[1;31mModuleNotFoundError\u001b[0m                       Traceback (most recent call last)",
      "\u001b[1;32mUntitled-1.ipynb Cell 13\u001b[0m line \u001b[0;36m1\n\u001b[1;32m----> <a href='vscode-notebook-cell:Untitled-1.ipynb?jupyter-notebook#X15sdW50aXRsZWQ%3D?line=0'>1</a>\u001b[0m \u001b[39mimport\u001b[39;00m \u001b[39mrequest\u001b[39;00m\n",
      "\u001b[1;31mModuleNotFoundError\u001b[0m: No module named 'request'"
     ]
    }
   ],
   "source": [
    "import request"
   ]
  },
  {
   "cell_type": "code",
   "execution_count": null,
   "metadata": {},
   "outputs": [
    {
     "ename": "ModuleNotFoundError",
     "evalue": "No module named 'requests'",
     "output_type": "error",
     "traceback": [
      "\u001b[1;31m---------------------------------------------------------------------------\u001b[0m",
      "\u001b[1;31mModuleNotFoundError\u001b[0m                       Traceback (most recent call last)",
      "\u001b[1;32mUntitled-1.ipynb Cell 14\u001b[0m line \u001b[0;36m1\n\u001b[1;32m----> <a href='vscode-notebook-cell:Untitled-1.ipynb?jupyter-notebook#X16sdW50aXRsZWQ%3D?line=0'>1</a>\u001b[0m \u001b[39mimport\u001b[39;00m \u001b[39mrequests\u001b[39;00m\n\u001b[0;32m      <a href='vscode-notebook-cell:Untitled-1.ipynb?jupyter-notebook#X16sdW50aXRsZWQ%3D?line=1'>2</a>\u001b[0m req\u001b[39m=\u001b[39mrequests\u001b[39m.\u001b[39mget(\u001b[39m'\u001b[39m\u001b[39mhttps://api.monobank.ua/bank/currency\u001b[39m\u001b[39m'\u001b[39m)\n",
      "\u001b[1;31mModuleNotFoundError\u001b[0m: No module named 'requests'"
     ]
    }
   ],
   "source": [
    "import requests\n",
    "req=requests.get('https://api.monobank.ua/bank/currency')"
   ]
  },
  {
   "cell_type": "code",
   "execution_count": null,
   "metadata": {},
   "outputs": [
    {
     "name": "stderr",
     "output_type": "stream",
     "text": [
      "\"pip\" �� ���� ����७��� ��� ���譥�\n",
      "��������, �ᯮ��塞�� �ணࠬ��� ��� ������ 䠩���.\n"
     ]
    },
    {
     "ename": "ModuleNotFoundError",
     "evalue": "No module named 'requests'",
     "output_type": "error",
     "traceback": [
      "\u001b[1;31m---------------------------------------------------------------------------\u001b[0m",
      "\u001b[1;31mModuleNotFoundError\u001b[0m                       Traceback (most recent call last)",
      "\u001b[1;32mUntitled-1.ipynb Cell 15\u001b[0m line \u001b[0;36m2\n\u001b[0;32m      <a href='vscode-notebook-cell:Untitled-1.ipynb?jupyter-notebook#X21sdW50aXRsZWQ%3D?line=0'>1</a>\u001b[0m get_ipython()\u001b[39m.\u001b[39msystem(\u001b[39m'\u001b[39m\u001b[39mpip requests install\u001b[39m\u001b[39m'\u001b[39m)\n\u001b[1;32m----> <a href='vscode-notebook-cell:Untitled-1.ipynb?jupyter-notebook#X21sdW50aXRsZWQ%3D?line=1'>2</a>\u001b[0m \u001b[39mimport\u001b[39;00m \u001b[39mrequests\u001b[39;00m\n\u001b[0;32m      <a href='vscode-notebook-cell:Untitled-1.ipynb?jupyter-notebook#X21sdW50aXRsZWQ%3D?line=2'>3</a>\u001b[0m req\u001b[39m=\u001b[39mrequests\u001b[39m.\u001b[39mget(\u001b[39m'\u001b[39m\u001b[39mhttps://api.monobank.ua/bank/currency\u001b[39m\u001b[39m'\u001b[39m)\n",
      "\u001b[1;31mModuleNotFoundError\u001b[0m: No module named 'requests'"
     ]
    }
   ],
   "source": [
    "!pip requests install\n",
    "import requests\n",
    "req=requests.get('https://api.monobank.ua/bank/currency')"
   ]
  },
  {
   "cell_type": "code",
   "execution_count": null,
   "metadata": {},
   "outputs": [
    {
     "ename": "ModuleNotFoundError",
     "evalue": "No module named 'requests'",
     "output_type": "error",
     "traceback": [
      "\u001b[1;31m---------------------------------------------------------------------------\u001b[0m",
      "\u001b[1;31mModuleNotFoundError\u001b[0m                       Traceback (most recent call last)",
      "\u001b[1;32mUntitled-1.ipynb Cell 16\u001b[0m line \u001b[0;36m1\n\u001b[1;32m----> <a href='vscode-notebook-cell:Untitled-1.ipynb?jupyter-notebook#X21sdW50aXRsZWQ%3D?line=0'>1</a>\u001b[0m \u001b[39mimport\u001b[39;00m \u001b[39mrequests\u001b[39;00m \n\u001b[0;32m      <a href='vscode-notebook-cell:Untitled-1.ipynb?jupyter-notebook#X21sdW50aXRsZWQ%3D?line=2'>3</a>\u001b[0m req \u001b[39m=\u001b[39m requests\u001b[39m.\u001b[39mget(\u001b[39m'\u001b[39m\u001b[39mhttps://api.monobank.ua/bank/currency\u001b[39m\u001b[39m'\u001b[39m)\n\u001b[0;32m      <a href='vscode-notebook-cell:Untitled-1.ipynb?jupyter-notebook#X21sdW50aXRsZWQ%3D?line=4'>5</a>\u001b[0m \u001b[39mprint\u001b[39m(req, req\u001b[39m.\u001b[39mstatus_code)\n",
      "\u001b[1;31mModuleNotFoundError\u001b[0m: No module named 'requests'"
     ]
    }
   ],
   "source": [
    "import requests \n",
    "\n",
    "req = requests.get('https://api.monobank.ua/bank/currency')\n",
    "\n",
    "print(req, req.status_code)\n",
    "\n",
    "currency = {\n",
    "    840: '💵',\n",
    "    978: '💶'\n",
    "}\n",
    "\n",
    "if check_status_code(req.status_code):\n",
    "    print('We can work with currency')\n",
    "    for i in req.json():\n",
    "        if i['currencyCodeA'] in (840, 978):\n",
    "            print(f\"Code is: {i['currencyCodeA']} Image: {currency[i['currencyCodeA']]} Buy: {i['rateBuy']}\")\n",
    "else:\n",
    "    print(f'we can\\'t work with currency {check_status_code(req)}')"
   ]
  },
  {
   "cell_type": "code",
   "execution_count": null,
   "metadata": {},
   "outputs": [
    {
     "name": "stdout",
     "output_type": "stream",
     "text": [
      "Collecting requests\n",
      "  Obtaining dependency information for requests from https://files.pythonhosted.org/packages/70/8e/0e2d847013cb52cd35b38c009bb167a1a26b2ce6cd6965bf26b47bc0bf44/requests-2.31.0-py3-none-any.whl.metadata\n",
      "  Downloading requests-2.31.0-py3-none-any.whl.metadata (4.6 kB)\n",
      "Collecting charset-normalizer<4,>=2 (from requests)\n",
      "  Obtaining dependency information for charset-normalizer<4,>=2 from https://files.pythonhosted.org/packages/92/5e/50028bbb269986d9bc30270cd46b47ea44a1ca0b3f8da3a8429680d37050/charset_normalizer-3.3.0-cp311-cp311-win_amd64.whl.metadata\n",
      "  Downloading charset_normalizer-3.3.0-cp311-cp311-win_amd64.whl.metadata (33 kB)\n",
      "Collecting idna<4,>=2.5 (from requests)\n",
      "  Downloading idna-3.4-py3-none-any.whl (61 kB)\n",
      "     ---------------------------------------- 0.0/61.5 kB ? eta -:--:--\n",
      "     ---------------------------------------- 61.5/61.5 kB 1.7 MB/s eta 0:00:00\n",
      "Collecting urllib3<3,>=1.21.1 (from requests)\n",
      "  Obtaining dependency information for urllib3<3,>=1.21.1 from https://files.pythonhosted.org/packages/d2/b2/b157855192a68541a91ba7b2bbcb91f1b4faa51f8bae38d8005c034be524/urllib3-2.0.7-py3-none-any.whl.metadata\n",
      "  Downloading urllib3-2.0.7-py3-none-any.whl.metadata (6.6 kB)\n",
      "Collecting certifi>=2017.4.17 (from requests)\n",
      "  Obtaining dependency information for certifi>=2017.4.17 from https://files.pythonhosted.org/packages/4c/dd/2234eab22353ffc7d94e8d13177aaa050113286e93e7b40eae01fbf7c3d9/certifi-2023.7.22-py3-none-any.whl.metadata\n",
      "  Downloading certifi-2023.7.22-py3-none-any.whl.metadata (2.2 kB)\n",
      "Downloading requests-2.31.0-py3-none-any.whl (62 kB)\n",
      "   ---------------------------------------- 0.0/62.6 kB ? eta -:--:--\n",
      "   ---------------------------------------- 62.6/62.6 kB 3.3 MB/s eta 0:00:00\n",
      "Downloading certifi-2023.7.22-py3-none-any.whl (158 kB)\n",
      "   ---------------------------------------- 0.0/158.3 kB ? eta -:--:--\n",
      "   -------------------------------------- - 153.6/158.3 kB 3.1 MB/s eta 0:00:01\n",
      "   ---------------------------------------- 158.3/158.3 kB 3.2 MB/s eta 0:00:00\n",
      "Downloading charset_normalizer-3.3.0-cp311-cp311-win_amd64.whl (97 kB)\n",
      "   ---------------------------------------- 0.0/97.8 kB ? eta -:--:--\n",
      "   ---------------------------------------- 97.8/97.8 kB 5.5 MB/s eta 0:00:00\n",
      "Downloading urllib3-2.0.7-py3-none-any.whl (124 kB)\n",
      "   ---------------------------------------- 0.0/124.2 kB ? eta -:--:--\n",
      "   ---------------------------------------- 124.2/124.2 kB 3.7 MB/s eta 0:00:00\n",
      "Installing collected packages: urllib3, idna, charset-normalizer, certifi, requests\n",
      "Successfully installed certifi-2023.7.22 charset-normalizer-3.3.0 idna-3.4 requests-2.31.0 urllib3-2.0.7\n",
      "Note: you may need to restart the kernel to use updated packages.\n"
     ]
    },
    {
     "name": "stderr",
     "output_type": "stream",
     "text": [
      "  WARNING: The script normalizer.exe is installed in 'c:\\Users\\Analytic\\AppData\\Local\\Programs\\Python\\Python311\\Scripts' which is not on PATH.\n",
      "  Consider adding this directory to PATH or, if you prefer to suppress this warning, use --no-warn-script-location.\n",
      "\n",
      "[notice] A new release of pip is available: 23.2.1 -> 23.3\n",
      "[notice] To update, run: python.exe -m pip install --upgrade pip\n"
     ]
    }
   ],
   "source": [
    "pip install requests"
   ]
  },
  {
   "cell_type": "code",
   "execution_count": null,
   "metadata": {},
   "outputs": [
    {
     "name": "stdout",
     "output_type": "stream",
     "text": [
      "<Response [200]> 200\n"
     ]
    },
    {
     "ename": "NameError",
     "evalue": "name 'check_status_code' is not defined",
     "output_type": "error",
     "traceback": [
      "\u001b[1;31m---------------------------------------------------------------------------\u001b[0m",
      "\u001b[1;31mNameError\u001b[0m                                 Traceback (most recent call last)",
      "\u001b[1;32mUntitled-1.ipynb Cell 18\u001b[0m line \u001b[0;36m1\n\u001b[0;32m      <a href='vscode-notebook-cell:Untitled-1.ipynb?jupyter-notebook#X23sdW50aXRsZWQ%3D?line=4'>5</a>\u001b[0m \u001b[39mprint\u001b[39m(req, req\u001b[39m.\u001b[39mstatus_code)\n\u001b[0;32m      <a href='vscode-notebook-cell:Untitled-1.ipynb?jupyter-notebook#X23sdW50aXRsZWQ%3D?line=6'>7</a>\u001b[0m currency \u001b[39m=\u001b[39m {\n\u001b[0;32m      <a href='vscode-notebook-cell:Untitled-1.ipynb?jupyter-notebook#X23sdW50aXRsZWQ%3D?line=7'>8</a>\u001b[0m     \u001b[39m840\u001b[39m: \u001b[39m'\u001b[39m\u001b[39m💵\u001b[39m\u001b[39m'\u001b[39m,\n\u001b[0;32m      <a href='vscode-notebook-cell:Untitled-1.ipynb?jupyter-notebook#X23sdW50aXRsZWQ%3D?line=8'>9</a>\u001b[0m     \u001b[39m978\u001b[39m: \u001b[39m'\u001b[39m\u001b[39m💶\u001b[39m\u001b[39m'\u001b[39m\n\u001b[0;32m     <a href='vscode-notebook-cell:Untitled-1.ipynb?jupyter-notebook#X23sdW50aXRsZWQ%3D?line=9'>10</a>\u001b[0m }\n\u001b[1;32m---> <a href='vscode-notebook-cell:Untitled-1.ipynb?jupyter-notebook#X23sdW50aXRsZWQ%3D?line=11'>12</a>\u001b[0m \u001b[39mif\u001b[39;00m check_status_code(req\u001b[39m.\u001b[39mstatus_code):\n\u001b[0;32m     <a href='vscode-notebook-cell:Untitled-1.ipynb?jupyter-notebook#X23sdW50aXRsZWQ%3D?line=12'>13</a>\u001b[0m     \u001b[39mprint\u001b[39m(\u001b[39m'\u001b[39m\u001b[39mWe can work with currency\u001b[39m\u001b[39m'\u001b[39m)\n\u001b[0;32m     <a href='vscode-notebook-cell:Untitled-1.ipynb?jupyter-notebook#X23sdW50aXRsZWQ%3D?line=13'>14</a>\u001b[0m     \u001b[39mfor\u001b[39;00m i \u001b[39min\u001b[39;00m req\u001b[39m.\u001b[39mjson():\n",
      "\u001b[1;31mNameError\u001b[0m: name 'check_status_code' is not defined"
     ]
    }
   ],
   "source": [
    "import requests \n",
    "\n",
    "req = requests.get('https://api.monobank.ua/bank/currency')\n",
    "\n",
    "print(req, req.status_code)\n",
    "\n",
    "currency = {\n",
    "    840: '💵',\n",
    "    978: '💶'\n",
    "}\n",
    "\n",
    "if check_status_code(req.status_code):\n",
    "    print('We can work with currency')\n",
    "    for i in req.json():\n",
    "        if i['currencyCodeA'] in (840, 978):\n",
    "            print(f\"Code is: {i['currencyCodeA']} Image: {currency[i['currencyCodeA']]} Buy: {i['rateBuy']}\")\n",
    "else:\n",
    "    print(f'we can\\'t work with currency {check_status_code(req)}')"
   ]
  },
  {
   "cell_type": "code",
   "execution_count": null,
   "metadata": {},
   "outputs": [],
   "source": [
    "def check_status_code(status_code: str) -> bool:\n",
    "    match status_code:\n",
    "        case 200: \n",
    "            return True\n",
    "        case 404:\n",
    "            return False\n",
    "        case _ as e:\n",
    "            return f'Error {e}'"
   ]
  },
  {
   "cell_type": "code",
   "execution_count": null,
   "metadata": {},
   "outputs": [
    {
     "name": "stdout",
     "output_type": "stream",
     "text": [
      "<Response [200]> 200\n",
      "We can work with currency\n",
      "Code is: 840 Image: 💵 Buy: 36.56\n",
      "Code is: 978 Image: 💶 Buy: 38.68\n",
      "Code is: 978 Image: 💶 Buy: 1.052\n"
     ]
    }
   ],
   "source": [
    "import requests \n",
    "\n",
    "req = requests.get('https://api.monobank.ua/bank/currency')\n",
    "\n",
    "print(req, req.status_code)\n",
    "\n",
    "currency = {\n",
    "    840: '💵',\n",
    "    978: '💶'\n",
    "}\n",
    "\n",
    "if check_status_code(req.status_code):\n",
    "    print('We can work with currency')\n",
    "    for i in req.json():\n",
    "        if i['currencyCodeA'] in (840, 978):\n",
    "            print(f\"Code is: {i['currencyCodeA']} Image: {currency[i['currencyCodeA']]} Buy: {i['rateBuy']}\")\n",
    "else:\n",
    "    print(f'we can\\'t work with currency {check_status_code(req)}')"
   ]
  },
  {
   "cell_type": "code",
   "execution_count": null,
   "metadata": {},
   "outputs": [
    {
     "data": {
      "text/plain": [
       "2"
      ]
     },
     "execution_count": 4,
     "metadata": {},
     "output_type": "execute_result"
    }
   ],
   "source": [
    "def try_p():\n",
    "    return\n",
    "def fun(a,b):\n",
    "    if a>b:\n",
    "        return a\n",
    "    else: return b\n",
    "fun(2,1)"
   ]
  },
  {
   "cell_type": "code",
   "execution_count": null,
   "metadata": {},
   "outputs": [
    {
     "name": "stdout",
     "output_type": "stream",
     "text": [
      "26\n"
     ]
    }
   ],
   "source": [
    "def sum(*a):\n",
    "    res=0\n",
    "    for i in a:\n",
    "        res+=i\n",
    "    return res\n",
    "print(sum(2,4,5,7,8))"
   ]
  },
  {
   "cell_type": "code",
   "execution_count": null,
   "metadata": {},
   "outputs": [
    {
     "name": "stdout",
     "output_type": "stream",
     "text": [
      "{3, 4, 5, 6}\n"
     ]
    }
   ],
   "source": [
    "def some_func(list1, list2):\n",
    "    return set(list2).intersection(set(list2))\n",
    "print(some_func([1,2,3,4],[3,4,5,6]))"
   ]
  },
  {
   "cell_type": "code",
   "execution_count": null,
   "metadata": {},
   "outputs": [
    {
     "name": "stdout",
     "output_type": "stream",
     "text": [
      "False\n"
     ]
    }
   ],
   "source": [
    "def some_func(list1):\n",
    "    if len(list1)==len(set(setlist11)):\n",
    "        return True\n",
    "    else: return False\n",
    "print(some_func([1,2,3,4,4]))"
   ]
  },
  {
   "cell_type": "code",
   "execution_count": null,
   "metadata": {},
   "outputs": [
    {
     "name": "stdout",
     "output_type": "stream",
     "text": [
      "[1, 2, 3, 4]\n"
     ]
    }
   ],
   "source": [
    "def some_func(list1):\n",
    "    return list(set(list1))\n",
    "print(some_func([1,2,3,4,4]))"
   ]
  },
  {
   "cell_type": "code",
   "execution_count": null,
   "metadata": {},
   "outputs": [
    {
     "data": {
      "text/plain": [
       "False"
      ]
     },
     "execution_count": 19,
     "metadata": {},
     "output_type": "execute_result"
    }
   ],
   "source": [
    "def even_int(a:int):\n",
    "    return True if a%2==0 else False\n",
    "even_int(3)"
   ]
  },
  {
   "cell_type": "code",
   "execution_count": null,
   "metadata": {},
   "outputs": [
    {
     "data": {
      "text/plain": [
       "10"
      ]
     },
     "execution_count": 32,
     "metadata": {},
     "output_type": "execute_result"
    }
   ],
   "source": [
    "def max_int(*a):\n",
    "    return max(*a)       \n",
    "max_int(1,2,10,9)"
   ]
  },
  {
   "cell_type": "code",
   "execution_count": null,
   "metadata": {},
   "outputs": [
    {
     "data": {
      "text/plain": [
       "False"
      ]
     },
     "execution_count": 28,
     "metadata": {},
     "output_type": "execute_result"
    }
   ],
   "source": [
    "def palindrom(text: str):\n",
    "    return True if text==text[::-1] else False"
   ]
  },
  {
   "cell_type": "code",
   "execution_count": null,
   "metadata": {},
   "outputs": [
    {
     "data": {
      "text/plain": [
       "462"
      ]
     },
     "execution_count": 35,
     "metadata": {},
     "output_type": "execute_result"
    }
   ],
   "source": [
    "def sum_voices(text: str):\n",
    "    sum=0\n",
    "    for i in text:\n",
    "        if i not in ['a','e','y','u','i','o']:\n",
    "            sum+=ord(i)\n",
    "    return sum\n",
    "sum_voices('textin')"
   ]
  },
  {
   "cell_type": "code",
   "execution_count": null,
   "metadata": {},
   "outputs": [
    {
     "data": {
      "text/plain": [
       "False"
      ]
     },
     "execution_count": 42,
     "metadata": {},
     "output_type": "execute_result"
    }
   ],
   "source": [
    "def prime_num(a:int):\n",
    "    for i in range(2,a):\n",
    "        b=0\n",
    "        if a%i==0:\n",
    "            b=1\n",
    "        break\n",
    "    return True if b==1 else False\n",
    "    \n",
    "prime_num(19)"
   ]
  },
  {
   "cell_type": "code",
   "execution_count": null,
   "metadata": {},
   "outputs": [
    {
     "name": "stdout",
     "output_type": "stream",
     "text": [
      "Auto(mark='Jaguar', engine=2.5, type_='titp', color='black')\n",
      "Alice Alice\n",
      "30 30\n",
      "Female Female\n",
      "Name: Alice, Age: 25, Gender: Female\n",
      "Name: Bob, Age: 30, Gender: Male\n"
     ]
    }
   ],
   "source": [
    "from collections import namedtuple # імпорт функціоналу із бібліотеки \n",
    "\n",
    "Person = namedtuple('User1', ['name', 'age', 'gender']) # фактичне створення структури\n",
    "\n",
    "person1 = Person(name='Alice', age=25, gender='Female') # init person1 = ('Alice', 25, 'Female' )\n",
    "person2 = Person(name='Bob', age=30, gender='Male')\n",
    "\n",
    "Auto = namedtuple('Auto', ['mark', 'engine', 'type_', 'color'])\n",
    "\n",
    "jaguar = Auto(mark = 'Jaguar', engine= 2.5, type_ = 'titp', color= 'black')\n",
    "print(jaguar)\n",
    "\n",
    "print(person1.name, person1[0])  \n",
    "print(person2.age, person2[1])   \n",
    "print(person1.gender,person1[2]) \n",
    "\n",
    "for person in [person1, person2]:\n",
    "    print(f\"Name: {person.name}, Age: {person.age}, Gender: {person.gender}\")"
   ]
  },
  {
   "cell_type": "code",
   "execution_count": null,
   "metadata": {},
   "outputs": [
    {
     "name": "stdout",
     "output_type": "stream",
     "text": [
      "['1', '2', '3', '4', '5']\n",
      "[1, 2, 3, 4, 5]\n"
     ]
    }
   ],
   "source": [
    "text=['1','2','3','4','5']\n",
    "numbers=map(lambda x: int(x), text)\n",
    "print(text)\n",
    "print(list(numbers))\n"
   ]
  },
  {
   "cell_type": "code",
   "execution_count": null,
   "metadata": {},
   "outputs": [
    {
     "name": "stdout",
     "output_type": "stream",
     "text": [
      "[2, 4, 6, 8, 10]\n"
     ]
    }
   ],
   "source": [
    "numbers=[1,2,3,4,5,6,7,8,9,10]\n",
    "even = list(filter(lambda x: x % 2 == 0, numbers))\n",
    "print(even)"
   ]
  },
  {
   "cell_type": "code",
   "execution_count": null,
   "metadata": {},
   "outputs": [
    {
     "name": "stdout",
     "output_type": "stream",
     "text": [
      "120\n"
     ]
    }
   ],
   "source": [
    "from functools import reduce\n",
    "numbers=[1,2,3,4,5]\n",
    "product = reduce(lambda x, y: x*y, numbers)\n",
    "print(product)"
   ]
  },
  {
   "cell_type": "code",
   "execution_count": null,
   "metadata": {},
   "outputs": [
    {
     "name": "stdout",
     "output_type": "stream",
     "text": [
      "[1, 4, 9, 16, 25]\n"
     ]
    }
   ],
   "source": [
    "numbers=[1,2,3,4,5]\n",
    "sq = list(map(lambda x: x ** 2, numbers))\n",
    "print(sq)"
   ]
  },
  {
   "cell_type": "code",
   "execution_count": null,
   "metadata": {},
   "outputs": [
    {
     "name": "stdout",
     "output_type": "stream",
     "text": [
      "[1, 3, 5, 7, 9]\n"
     ]
    }
   ],
   "source": [
    "numbers=[1, -2, 3, -4, 5, -6, 7, -8, 9, -10]\n",
    "positiv = list(filter(lambda x: x > 0, numbers))\n",
    "print(positiv)"
   ]
  },
  {
   "cell_type": "code",
   "execution_count": null,
   "metadata": {},
   "outputs": [],
   "source": [
    "def exams(**kwargs):\n",
    "    #сортуємо оцінки від меншої до більшої\n",
    "    scor=dict(sorted(kwargs.items(), key=lambda x: x[1][0]))\n",
    "    #оприділяємо мінімальну оцінку(потрібно для циклу)\n",
    "    min_score=min(scor.items(), key=lambda i: i[1][0])[1][0]\n",
    "    #оприділяємо лічильник для нижнього порогу складання іспиту\n",
    "    step1=0\n",
    "    #оприділяємо лічильник, щоб визначити чи послідовний професор\n",
    "    counter=0\n",
    "    #оприділяємо змінну зі статусом складання іспиту попереднього студента для порівння її з наступним\n",
    "    b=''\n",
    "    #запускаємо цикл по студентам\n",
    "    for key in scor.keys():\n",
    "        #якщо оцінка студента більша за попереднього, при цьому він не здав тест, а попередній студент сдав - лічильник+1, а професор в такому випадку не послідовний\n",
    "        if scor[key][0]>min_score  and scor[key][1]=='Failed' and scor[key][1]!=b:\n",
    "            counter+=1\n",
    "        if counter>0:\n",
    "            print('Професор не послідовний') \n",
    "            break\n",
    "        #якщо ж професор послідовний, оприділяємо діапазон здачі тесту\n",
    "        #для цього оприділяємо оцінку останнього студента, що не здав і додаємо +1 (це нижній поріг)\n",
    "        #оприділяємо оцінку першого студента, що здав - це верхній поріг\n",
    "        elif counter==0 and scor[key][0]>min_score and scor[key][1]!=b and scor[key][1]=='Passed':\n",
    "            print(f'Професор послідовний \\nПоріг складання іспиту: {step1} - {scor[key][0]} балів')\n",
    "        min_score=scor[key][0]\n",
    "        b=scor[key][1]\n",
    "        step1=scor[key][0]+1\n",
    "\n",
    "scores1={'Student1':(78, 'Failed'), 'Student2':(82, 'Passed'), 'Student3':(97, 'Passed'), 'Student4':(86, 'Passed'), 'Student5':(67, 'Passed'), 'Student6':(75, 'Passed')}\n",
    "exams(**scores1)\n",
    "scores2={'Student1':(84, 'Passed'), 'Student2':(78, 'Passed'), 'Student3':(65, 'Failed'), 'Student4':(90, 'Passed'), 'Student5':(79, 'Failed')}\n",
    "exams(**scores2)"
   ]
  },
  {
   "cell_type": "code",
   "execution_count": null,
   "metadata": {},
   "outputs": [],
   "source": [
    "file = open('Japan.txt', 'w')\n",
    "\n",
    "file.write('Capital: Tokyo\\nPopulation: 120_000_00')\n",
    "\n",
    "file.close()"
   ]
  },
  {
   "cell_type": "code",
   "execution_count": null,
   "metadata": {},
   "outputs": [
    {
     "name": "stdout",
     "output_type": "stream",
     "text": [
      "15\n",
      "[5, 6, 6]\n",
      "[6, 7, 8, 9, 10]\n",
      "True\n",
      "['APPLE', 'BANANA', 'CHERRY']\n"
     ]
    }
   ],
   "source": [
    "#6\n",
    "from functools import reduce\n",
    "numbers=[1,2,3,4,5]\n",
    "print(reduce(lambda x, y: x+y, numbers))\n",
    "\n",
    "#7\n",
    "text=['apple','banana', 'cherry']\n",
    "print(list(map(lambda x: len(x), text)))\n",
    "\n",
    "#8\n",
    "numbers1=[1, 2, 3, 4, 5, 6, 7, 8, 9, 10]\n",
    "print(list(filter(lambda x: x > sum(numbers1)/len(numbers1), numbers1)))\n",
    "\n",
    "#9\n",
    "from functools import reduce\n",
    "numbers2=[1, 5, 3, 9, 2]\n",
    "print(reduce(lambda x, y: x<y, numbers2))\n",
    "\n",
    "#10\n",
    "text=['apple','banana', 'cherry']\n",
    "print(list(map(lambda x: x.upper(), text)))\n"
   ]
  },
  {
   "cell_type": "code",
   "execution_count": null,
   "metadata": {},
   "outputs": [],
   "source": [
    "#1\n",
    "dict1={'UK': 'London', 'Germany': 'Berlin', 'Ukraine': 'Kyiv'}\n",
    "with open(\"Country.txt\", 'w') as file1:\n",
    "    for key, value in dict1.items():\n",
    "        file1.write(f'Country: {key}. Capital is: {value} \\n')\n",
    "        \n",
    "#2\n",
    "with open(\"Japan.txt\", 'a+') as file2:\n",
    "    file2.write('\\nState system: constitutional monarchy')"
   ]
  },
  {
   "cell_type": "code",
   "execution_count": null,
   "metadata": {},
   "outputs": [],
   "source": [
    "#3\n",
    "from datetime import date\n",
    "with open(\"Japan.txt\", 'r+') as file3, open(f'Japan_Backup_{date.today()}.txt', 'w+') as file4:\n",
    "    text=file3.read()\n",
    "    file4.write(text)"
   ]
  },
  {
   "cell_type": "code",
   "execution_count": 10,
   "metadata": {},
   "outputs": [
    {
     "name": "stdout",
     "output_type": "stream",
     "text": [
      "Помилка: Неправильний ввід\n"
     ]
    }
   ],
   "source": [
    "\n",
    "def calculate(a,b):\n",
    "    if oper == '+':\n",
    "        print(a + b)\n",
    "    elif oper == '-':\n",
    "        print(a - b)\n",
    "    elif oper == '*':\n",
    "        print(a * b)\n",
    "    elif oper == '/':\n",
    "        print(a / b)\n",
    "    elif oper == '**':\n",
    "        print(a ** b)\n",
    "\n",
    "try:\n",
    "    num1, num2 = int(input('Введіть число 1:')), int(input('Введіть число 2:'))\n",
    "    oper=input('Введіть оператор')\n",
    "    calculate(num1,num2)\n",
    "except ZeroDivisionError:\n",
    "    print('Не можна ділити на 0')\n",
    "except (ValueError, SyntaxError, NameError):\n",
    "    print(\"Помилка: Неправильний ввід\")"
   ]
  },
  {
   "cell_type": "code",
   "execution_count": 3,
   "metadata": {},
   "outputs": [
    {
     "name": "stdout",
     "output_type": "stream",
     "text": [
      "Помилка: введыть позитивне число\n",
      "Помилка: введыть позитивне число\n",
      "Помилка: введыть позитивне число\n",
      "Помилка: введыть позитивне число\n",
      "6.0\n"
     ]
    }
   ],
   "source": [
    "def calculat():\n",
    "    while True:\n",
    "        num1 = input('Введіть число 1:')\n",
    "        try:\n",
    "            a=float(num1)\n",
    "            if a>0:\n",
    "                print(a)\n",
    "                break\n",
    "            else: print('Помилка: введыть позитивне число')\n",
    "        except ValueError:\n",
    "            print(\"Помилка: Неправильний ввід. Введіть число\")\n",
    "        \n",
    "calculat()\n"
   ]
  },
  {
   "cell_type": "code",
   "execution_count": 19,
   "metadata": {},
   "outputs": [
    {
     "name": "stdout",
     "output_type": "stream",
     "text": [
      "{'coord': {'lon': 30.5167, 'lat': 50.4333}, 'weather': [{'id': 802, 'main': 'Clouds', 'description': 'scattered clouds', 'icon': '03d'}], 'base': 'stations', 'main': {'temp': 286.33, 'feels_like': 285.98, 'temp_min': 286.33, 'temp_max': 286.33, 'pressure': 999, 'humidity': 87}, 'visibility': 10000, 'wind': {'speed': 0.45, 'deg': 224, 'gust': 0.89}, 'clouds': {'all': 41}, 'dt': 1699176191, 'sys': {'type': 2, 'id': 2003742, 'country': 'UA', 'sunrise': 1699160071, 'sunset': 1699194508}, 'timezone': 7200, 'id': 703448, 'name': 'Kyiv', 'cod': 200} dict_keys(['coord', 'weather', 'base', 'main', 'visibility', 'wind', 'clouds', 'dt', 'sys', 'timezone', 'id', 'name', 'cod'])\n",
      "Погода в місті Kyiv: scattered clouds\n",
      "Вітер в місті Kyiv: {'speed': 0.45, 'deg': 224, 'gust': 0.89}\n",
      "Хмарність в місті Kyiv: 41\n",
      "Температура: 286.33°F, відчувається як 285.98°F\n",
      "Температура: 12.850000000000023°C, відчувається як 12.850000000000023°C\n"
     ]
    }
   ],
   "source": [
    "# Weather App\n",
    "import requests\n",
    "\n",
    "API_KEY = \"33d99a1c99c5ea82e6aaff8592cd6fc3\"  \n",
    "\n",
    "city = input('Enteryou city: ').strip().capitalize()\n",
    "\n",
    "url = f\"https://api.openweathermap.org/data/2.5/weather?q={city}&appid={API_KEY}\" # &units=metric\n",
    "\n",
    "response = requests.get(url)\n",
    "\n",
    "def cel(x):\n",
    "    return int(x)-273.15\n",
    "\n",
    "if response.status_code == 200:\n",
    "    data = response.json()\n",
    "    print(data, data.keys())\n",
    "\n",
    "\n",
    "\n",
    "    temp = data[\"main\"][\"temp\"]\n",
    "    feels_like = data[\"main\"][\"feels_like\"]\n",
    "    description = data[\"weather\"][0][\"description\"]\n",
    "    wind = data[\"wind\"]\n",
    "    clouds = data[\"clouds\"][\"all\"]\n",
    "    print(f\"Погода в місті {city}: {description}\")\n",
    "    print(f\"Вітер в місті {city}: {wind}\")\n",
    "    print(f\"Хмарність в місті {city}: {clouds}\")\n",
    "    print(f\"Температура: {temp}°F, відчувається як {feels_like}°F\")\n",
    "    print(f\"Температура: {cel(temp)}°C, відчувається як {cel(temp)}°C\")\n",
    "else:\n",
    "    print(\"Не вдалося отримати дані про погоду\")"
   ]
  },
  {
   "cell_type": "code",
   "execution_count": 29,
   "metadata": {},
   "outputs": [
    {
     "name": "stdout",
     "output_type": "stream",
     "text": [
      "840: rateBuy: 36.14, rateSell: 37.2995\n",
      "978: rateBuy: 38.72, rateSell: 40.0192\n",
      "978: rateBuy: 1.06, rateSell: 1.075\n"
     ]
    }
   ],
   "source": [
    "# Monobank\n",
    "import requests \n",
    "import time  \n",
    "\n",
    "URL_MONO = 'https://api.monobank.ua/bank/currency'\n",
    "\n",
    "CURRENCY = (840,978)\n",
    "\n",
    "curr = requests.get(URL_MONO)\n",
    "\n",
    "if curr.status_code == 200:\n",
    "    data = curr.json()\n",
    "elif curr.status_code == 428:\n",
    "    time.sleep(15)\n",
    "else:\n",
    "    print(f'{curr.status_code}')\n",
    "for i in data:\n",
    "    if i['currencyCodeA'] in CURRENCY:\n",
    "        print(f\"{i['currencyCodeA']}: rateBuy: {i['rateBuy']}, rateSell: {i['rateSell']}\")"
   ]
  },
  {
   "cell_type": "code",
   "execution_count": 22,
   "metadata": {},
   "outputs": [
    {
     "name": "stdout",
     "output_type": "stream",
     "text": [
      "Прості числа до 10000 за методом 1: [2, 3, 5, 7, 11, 13, 17, 19, 23, 29, 31, 37, 41, 43, 47, 53, 59, 61, 67, 71, 73, 79, 83, 89, 97, 101, 103, 107, 109, 113, 127, 131, 137, 139, 149, 151, 157, 163, 167, 173, 179, 181, 191, 193, 197, 199, 211, 223, 227, 229, 233, 239, 241, 251, 257, 263, 269, 271, 277, 281, 283, 293, 307, 311, 313, 317, 331, 337, 347, 349, 353, 359, 367, 373, 379, 383, 389, 397, 401, 409, 419, 421, 431, 433, 439, 443, 449, 457, 461, 463, 467, 479, 487, 491, 499, 503, 509, 521, 523, 541, 547, 557, 563, 569, 571, 577, 587, 593, 599, 601, 607, 613, 617, 619, 631, 641, 643, 647, 653, 659, 661, 673, 677, 683, 691, 701, 709, 719, 727, 733, 739, 743, 751, 757, 761, 769, 773, 787, 797, 809, 811, 821, 823, 827, 829, 839, 853, 857, 859, 863, 877, 881, 883, 887, 907, 911, 919, 929, 937, 941, 947, 953, 967, 971, 977, 983, 991, 997, 1009, 1013, 1019, 1021, 1031, 1033, 1039, 1049, 1051, 1061, 1063, 1069, 1087, 1091, 1093, 1097, 1103, 1109, 1117, 1123, 1129, 1151, 1153, 1163, 1171, 1181, 1187, 1193, 1201, 1213, 1217, 1223, 1229, 1231, 1237, 1249, 1259, 1277, 1279, 1283, 1289, 1291, 1297, 1301, 1303, 1307, 1319, 1321, 1327, 1361, 1367, 1373, 1381, 1399, 1409, 1423, 1427, 1429, 1433, 1439, 1447, 1451, 1453, 1459, 1471, 1481, 1483, 1487, 1489, 1493, 1499, 1511, 1523, 1531, 1543, 1549, 1553, 1559, 1567, 1571, 1579, 1583, 1597, 1601, 1607, 1609, 1613, 1619, 1621, 1627, 1637, 1657, 1663, 1667, 1669, 1693, 1697, 1699, 1709, 1721, 1723, 1733, 1741, 1747, 1753, 1759, 1777, 1783, 1787, 1789, 1801, 1811, 1823, 1831, 1847, 1861, 1867, 1871, 1873, 1877, 1879, 1889, 1901, 1907, 1913, 1931, 1933, 1949, 1951, 1973, 1979, 1987, 1993, 1997, 1999, 2003, 2011, 2017, 2027, 2029, 2039, 2053, 2063, 2069, 2081, 2083, 2087, 2089, 2099, 2111, 2113, 2129, 2131, 2137, 2141, 2143, 2153, 2161, 2179, 2203, 2207, 2213, 2221, 2237, 2239, 2243, 2251, 2267, 2269, 2273, 2281, 2287, 2293, 2297, 2309, 2311, 2333, 2339, 2341, 2347, 2351, 2357, 2371, 2377, 2381, 2383, 2389, 2393, 2399, 2411, 2417, 2423, 2437, 2441, 2447, 2459, 2467, 2473, 2477, 2503, 2521, 2531, 2539, 2543, 2549, 2551, 2557, 2579, 2591, 2593, 2609, 2617, 2621, 2633, 2647, 2657, 2659, 2663, 2671, 2677, 2683, 2687, 2689, 2693, 2699, 2707, 2711, 2713, 2719, 2729, 2731, 2741, 2749, 2753, 2767, 2777, 2789, 2791, 2797, 2801, 2803, 2819, 2833, 2837, 2843, 2851, 2857, 2861, 2879, 2887, 2897, 2903, 2909, 2917, 2927, 2939, 2953, 2957, 2963, 2969, 2971, 2999, 3001, 3011, 3019, 3023, 3037, 3041, 3049, 3061, 3067, 3079, 3083, 3089, 3109, 3119, 3121, 3137, 3163, 3167, 3169, 3181, 3187, 3191, 3203, 3209, 3217, 3221, 3229, 3251, 3253, 3257, 3259, 3271, 3299, 3301, 3307, 3313, 3319, 3323, 3329, 3331, 3343, 3347, 3359, 3361, 3371, 3373, 3389, 3391, 3407, 3413, 3433, 3449, 3457, 3461, 3463, 3467, 3469, 3491, 3499, 3511, 3517, 3527, 3529, 3533, 3539, 3541, 3547, 3557, 3559, 3571, 3581, 3583, 3593, 3607, 3613, 3617, 3623, 3631, 3637, 3643, 3659, 3671, 3673, 3677, 3691, 3697, 3701, 3709, 3719, 3727, 3733, 3739, 3761, 3767, 3769, 3779, 3793, 3797, 3803, 3821, 3823, 3833, 3847, 3851, 3853, 3863, 3877, 3881, 3889, 3907, 3911, 3917, 3919, 3923, 3929, 3931, 3943, 3947, 3967, 3989, 4001, 4003, 4007, 4013, 4019, 4021, 4027, 4049, 4051, 4057, 4073, 4079, 4091, 4093, 4099, 4111, 4127, 4129, 4133, 4139, 4153, 4157, 4159, 4177, 4201, 4211, 4217, 4219, 4229, 4231, 4241, 4243, 4253, 4259, 4261, 4271, 4273, 4283, 4289, 4297, 4327, 4337, 4339, 4349, 4357, 4363, 4373, 4391, 4397, 4409, 4421, 4423, 4441, 4447, 4451, 4457, 4463, 4481, 4483, 4493, 4507, 4513, 4517, 4519, 4523, 4547, 4549, 4561, 4567, 4583, 4591, 4597, 4603, 4621, 4637, 4639, 4643, 4649, 4651, 4657, 4663, 4673, 4679, 4691, 4703, 4721, 4723, 4729, 4733, 4751, 4759, 4783, 4787, 4789, 4793, 4799, 4801, 4813, 4817, 4831, 4861, 4871, 4877, 4889, 4903, 4909, 4919, 4931, 4933, 4937, 4943, 4951, 4957, 4967, 4969, 4973, 4987, 4993, 4999, 5003, 5009, 5011, 5021, 5023, 5039, 5051, 5059, 5077, 5081, 5087, 5099, 5101, 5107, 5113, 5119, 5147, 5153, 5167, 5171, 5179, 5189, 5197, 5209, 5227, 5231, 5233, 5237, 5261, 5273, 5279, 5281, 5297, 5303, 5309, 5323, 5333, 5347, 5351, 5381, 5387, 5393, 5399, 5407, 5413, 5417, 5419, 5431, 5437, 5441, 5443, 5449, 5471, 5477, 5479, 5483, 5501, 5503, 5507, 5519, 5521, 5527, 5531, 5557, 5563, 5569, 5573, 5581, 5591, 5623, 5639, 5641, 5647, 5651, 5653, 5657, 5659, 5669, 5683, 5689, 5693, 5701, 5711, 5717, 5737, 5741, 5743, 5749, 5779, 5783, 5791, 5801, 5807, 5813, 5821, 5827, 5839, 5843, 5849, 5851, 5857, 5861, 5867, 5869, 5879, 5881, 5897, 5903, 5923, 5927, 5939, 5953, 5981, 5987, 6007, 6011, 6029, 6037, 6043, 6047, 6053, 6067, 6073, 6079, 6089, 6091, 6101, 6113, 6121, 6131, 6133, 6143, 6151, 6163, 6173, 6197, 6199, 6203, 6211, 6217, 6221, 6229, 6247, 6257, 6263, 6269, 6271, 6277, 6287, 6299, 6301, 6311, 6317, 6323, 6329, 6337, 6343, 6353, 6359, 6361, 6367, 6373, 6379, 6389, 6397, 6421, 6427, 6449, 6451, 6469, 6473, 6481, 6491, 6521, 6529, 6547, 6551, 6553, 6563, 6569, 6571, 6577, 6581, 6599, 6607, 6619, 6637, 6653, 6659, 6661, 6673, 6679, 6689, 6691, 6701, 6703, 6709, 6719, 6733, 6737, 6761, 6763, 6779, 6781, 6791, 6793, 6803, 6823, 6827, 6829, 6833, 6841, 6857, 6863, 6869, 6871, 6883, 6899, 6907, 6911, 6917, 6947, 6949, 6959, 6961, 6967, 6971, 6977, 6983, 6991, 6997, 7001, 7013, 7019, 7027, 7039, 7043, 7057, 7069, 7079, 7103, 7109, 7121, 7127, 7129, 7151, 7159, 7177, 7187, 7193, 7207, 7211, 7213, 7219, 7229, 7237, 7243, 7247, 7253, 7283, 7297, 7307, 7309, 7321, 7331, 7333, 7349, 7351, 7369, 7393, 7411, 7417, 7433, 7451, 7457, 7459, 7477, 7481, 7487, 7489, 7499, 7507, 7517, 7523, 7529, 7537, 7541, 7547, 7549, 7559, 7561, 7573, 7577, 7583, 7589, 7591, 7603, 7607, 7621, 7639, 7643, 7649, 7669, 7673, 7681, 7687, 7691, 7699, 7703, 7717, 7723, 7727, 7741, 7753, 7757, 7759, 7789, 7793, 7817, 7823, 7829, 7841, 7853, 7867, 7873, 7877, 7879, 7883, 7901, 7907, 7919, 7927, 7933, 7937, 7949, 7951, 7963, 7993, 8009, 8011, 8017, 8039, 8053, 8059, 8069, 8081, 8087, 8089, 8093, 8101, 8111, 8117, 8123, 8147, 8161, 8167, 8171, 8179, 8191, 8209, 8219, 8221, 8231, 8233, 8237, 8243, 8263, 8269, 8273, 8287, 8291, 8293, 8297, 8311, 8317, 8329, 8353, 8363, 8369, 8377, 8387, 8389, 8419, 8423, 8429, 8431, 8443, 8447, 8461, 8467, 8501, 8513, 8521, 8527, 8537, 8539, 8543, 8563, 8573, 8581, 8597, 8599, 8609, 8623, 8627, 8629, 8641, 8647, 8663, 8669, 8677, 8681, 8689, 8693, 8699, 8707, 8713, 8719, 8731, 8737, 8741, 8747, 8753, 8761, 8779, 8783, 8803, 8807, 8819, 8821, 8831, 8837, 8839, 8849, 8861, 8863, 8867, 8887, 8893, 8923, 8929, 8933, 8941, 8951, 8963, 8969, 8971, 8999, 9001, 9007, 9011, 9013, 9029, 9041, 9043, 9049, 9059, 9067, 9091, 9103, 9109, 9127, 9133, 9137, 9151, 9157, 9161, 9173, 9181, 9187, 9199, 9203, 9209, 9221, 9227, 9239, 9241, 9257, 9277, 9281, 9283, 9293, 9311, 9319, 9323, 9337, 9341, 9343, 9349, 9371, 9377, 9391, 9397, 9403, 9413, 9419, 9421, 9431, 9433, 9437, 9439, 9461, 9463, 9467, 9473, 9479, 9491, 9497, 9511, 9521, 9533, 9539, 9547, 9551, 9587, 9601, 9613, 9619, 9623, 9629, 9631, 9643, 9649, 9661, 9677, 9679, 9689, 9697, 9719, 9721, 9733, 9739, 9743, 9749, 9767, 9769, 9781, 9787, 9791, 9803, 9811, 9817, 9829, 9833, 9839, 9851, 9857, 9859, 9871, 9883, 9887, 9901, 9907, 9923, 9929, 9931, 9941, 9949, 9967, 9973]\n",
      "Час виконання методу 1: 0.004133701324462891 секунд\n",
      "Прості числа до 10000 за методом 2: [2, 3, 5, 7, 11, 13, 17, 19, 23, 29, 31, 37, 41, 43, 47, 53, 59, 61, 67, 71, 73, 79, 83, 89, 97, 101, 103, 107, 109, 113, 127, 131, 137, 139, 149, 151, 157, 163, 167, 173, 179, 181, 191, 193, 197, 199, 211, 223, 227, 229, 233, 239, 241, 251, 257, 263, 269, 271, 277, 281, 283, 293, 307, 311, 313, 317, 331, 337, 347, 349, 353, 359, 367, 373, 379, 383, 389, 397, 401, 409, 419, 421, 431, 433, 439, 443, 449, 457, 461, 463, 467, 479, 487, 491, 499, 503, 509, 521, 523, 541, 547, 557, 563, 569, 571, 577, 587, 593, 599, 601, 607, 613, 617, 619, 631, 641, 643, 647, 653, 659, 661, 673, 677, 683, 691, 701, 709, 719, 727, 733, 739, 743, 751, 757, 761, 769, 773, 787, 797, 809, 811, 821, 823, 827, 829, 839, 853, 857, 859, 863, 877, 881, 883, 887, 907, 911, 919, 929, 937, 941, 947, 953, 967, 971, 977, 983, 991, 997, 1009, 1013, 1019, 1021, 1031, 1033, 1039, 1049, 1051, 1061, 1063, 1069, 1087, 1091, 1093, 1097, 1103, 1109, 1117, 1123, 1129, 1151, 1153, 1163, 1171, 1181, 1187, 1193, 1201, 1213, 1217, 1223, 1229, 1231, 1237, 1249, 1259, 1277, 1279, 1283, 1289, 1291, 1297, 1301, 1303, 1307, 1319, 1321, 1327, 1361, 1367, 1373, 1381, 1399, 1409, 1423, 1427, 1429, 1433, 1439, 1447, 1451, 1453, 1459, 1471, 1481, 1483, 1487, 1489, 1493, 1499, 1511, 1523, 1531, 1543, 1549, 1553, 1559, 1567, 1571, 1579, 1583, 1597, 1601, 1607, 1609, 1613, 1619, 1621, 1627, 1637, 1657, 1663, 1667, 1669, 1693, 1697, 1699, 1709, 1721, 1723, 1733, 1741, 1747, 1753, 1759, 1777, 1783, 1787, 1789, 1801, 1811, 1823, 1831, 1847, 1861, 1867, 1871, 1873, 1877, 1879, 1889, 1901, 1907, 1913, 1931, 1933, 1949, 1951, 1973, 1979, 1987, 1993, 1997, 1999, 2003, 2011, 2017, 2027, 2029, 2039, 2053, 2063, 2069, 2081, 2083, 2087, 2089, 2099, 2111, 2113, 2129, 2131, 2137, 2141, 2143, 2153, 2161, 2179, 2203, 2207, 2213, 2221, 2237, 2239, 2243, 2251, 2267, 2269, 2273, 2281, 2287, 2293, 2297, 2309, 2311, 2333, 2339, 2341, 2347, 2351, 2357, 2371, 2377, 2381, 2383, 2389, 2393, 2399, 2411, 2417, 2423, 2437, 2441, 2447, 2459, 2467, 2473, 2477, 2503, 2521, 2531, 2539, 2543, 2549, 2551, 2557, 2579, 2591, 2593, 2609, 2617, 2621, 2633, 2647, 2657, 2659, 2663, 2671, 2677, 2683, 2687, 2689, 2693, 2699, 2707, 2711, 2713, 2719, 2729, 2731, 2741, 2749, 2753, 2767, 2777, 2789, 2791, 2797, 2801, 2803, 2819, 2833, 2837, 2843, 2851, 2857, 2861, 2879, 2887, 2897, 2903, 2909, 2917, 2927, 2939, 2953, 2957, 2963, 2969, 2971, 2999, 3001, 3011, 3019, 3023, 3037, 3041, 3049, 3061, 3067, 3079, 3083, 3089, 3109, 3119, 3121, 3137, 3163, 3167, 3169, 3181, 3187, 3191, 3203, 3209, 3217, 3221, 3229, 3251, 3253, 3257, 3259, 3271, 3299, 3301, 3307, 3313, 3319, 3323, 3329, 3331, 3343, 3347, 3359, 3361, 3371, 3373, 3389, 3391, 3407, 3413, 3433, 3449, 3457, 3461, 3463, 3467, 3469, 3491, 3499, 3511, 3517, 3527, 3529, 3533, 3539, 3541, 3547, 3557, 3559, 3571, 3581, 3583, 3593, 3607, 3613, 3617, 3623, 3631, 3637, 3643, 3659, 3671, 3673, 3677, 3691, 3697, 3701, 3709, 3719, 3727, 3733, 3739, 3761, 3767, 3769, 3779, 3793, 3797, 3803, 3821, 3823, 3833, 3847, 3851, 3853, 3863, 3877, 3881, 3889, 3907, 3911, 3917, 3919, 3923, 3929, 3931, 3943, 3947, 3967, 3989, 4001, 4003, 4007, 4013, 4019, 4021, 4027, 4049, 4051, 4057, 4073, 4079, 4091, 4093, 4099, 4111, 4127, 4129, 4133, 4139, 4153, 4157, 4159, 4177, 4201, 4211, 4217, 4219, 4229, 4231, 4241, 4243, 4253, 4259, 4261, 4271, 4273, 4283, 4289, 4297, 4327, 4337, 4339, 4349, 4357, 4363, 4373, 4391, 4397, 4409, 4421, 4423, 4441, 4447, 4451, 4457, 4463, 4481, 4483, 4493, 4507, 4513, 4517, 4519, 4523, 4547, 4549, 4561, 4567, 4583, 4591, 4597, 4603, 4621, 4637, 4639, 4643, 4649, 4651, 4657, 4663, 4673, 4679, 4691, 4703, 4721, 4723, 4729, 4733, 4751, 4759, 4783, 4787, 4789, 4793, 4799, 4801, 4813, 4817, 4831, 4861, 4871, 4877, 4889, 4903, 4909, 4919, 4931, 4933, 4937, 4943, 4951, 4957, 4967, 4969, 4973, 4987, 4993, 4999, 5003, 5009, 5011, 5021, 5023, 5039, 5051, 5059, 5077, 5081, 5087, 5099, 5101, 5107, 5113, 5119, 5147, 5153, 5167, 5171, 5179, 5189, 5197, 5209, 5227, 5231, 5233, 5237, 5261, 5273, 5279, 5281, 5297, 5303, 5309, 5323, 5333, 5347, 5351, 5381, 5387, 5393, 5399, 5407, 5413, 5417, 5419, 5431, 5437, 5441, 5443, 5449, 5471, 5477, 5479, 5483, 5501, 5503, 5507, 5519, 5521, 5527, 5531, 5557, 5563, 5569, 5573, 5581, 5591, 5623, 5639, 5641, 5647, 5651, 5653, 5657, 5659, 5669, 5683, 5689, 5693, 5701, 5711, 5717, 5737, 5741, 5743, 5749, 5779, 5783, 5791, 5801, 5807, 5813, 5821, 5827, 5839, 5843, 5849, 5851, 5857, 5861, 5867, 5869, 5879, 5881, 5897, 5903, 5923, 5927, 5939, 5953, 5981, 5987, 6007, 6011, 6029, 6037, 6043, 6047, 6053, 6067, 6073, 6079, 6089, 6091, 6101, 6113, 6121, 6131, 6133, 6143, 6151, 6163, 6173, 6197, 6199, 6203, 6211, 6217, 6221, 6229, 6247, 6257, 6263, 6269, 6271, 6277, 6287, 6299, 6301, 6311, 6317, 6323, 6329, 6337, 6343, 6353, 6359, 6361, 6367, 6373, 6379, 6389, 6397, 6421, 6427, 6449, 6451, 6469, 6473, 6481, 6491, 6521, 6529, 6547, 6551, 6553, 6563, 6569, 6571, 6577, 6581, 6599, 6607, 6619, 6637, 6653, 6659, 6661, 6673, 6679, 6689, 6691, 6701, 6703, 6709, 6719, 6733, 6737, 6761, 6763, 6779, 6781, 6791, 6793, 6803, 6823, 6827, 6829, 6833, 6841, 6857, 6863, 6869, 6871, 6883, 6899, 6907, 6911, 6917, 6947, 6949, 6959, 6961, 6967, 6971, 6977, 6983, 6991, 6997, 7001, 7013, 7019, 7027, 7039, 7043, 7057, 7069, 7079, 7103, 7109, 7121, 7127, 7129, 7151, 7159, 7177, 7187, 7193, 7207, 7211, 7213, 7219, 7229, 7237, 7243, 7247, 7253, 7283, 7297, 7307, 7309, 7321, 7331, 7333, 7349, 7351, 7369, 7393, 7411, 7417, 7433, 7451, 7457, 7459, 7477, 7481, 7487, 7489, 7499, 7507, 7517, 7523, 7529, 7537, 7541, 7547, 7549, 7559, 7561, 7573, 7577, 7583, 7589, 7591, 7603, 7607, 7621, 7639, 7643, 7649, 7669, 7673, 7681, 7687, 7691, 7699, 7703, 7717, 7723, 7727, 7741, 7753, 7757, 7759, 7789, 7793, 7817, 7823, 7829, 7841, 7853, 7867, 7873, 7877, 7879, 7883, 7901, 7907, 7919, 7927, 7933, 7937, 7949, 7951, 7963, 7993, 8009, 8011, 8017, 8039, 8053, 8059, 8069, 8081, 8087, 8089, 8093, 8101, 8111, 8117, 8123, 8147, 8161, 8167, 8171, 8179, 8191, 8209, 8219, 8221, 8231, 8233, 8237, 8243, 8263, 8269, 8273, 8287, 8291, 8293, 8297, 8311, 8317, 8329, 8353, 8363, 8369, 8377, 8387, 8389, 8419, 8423, 8429, 8431, 8443, 8447, 8461, 8467, 8501, 8513, 8521, 8527, 8537, 8539, 8543, 8563, 8573, 8581, 8597, 8599, 8609, 8623, 8627, 8629, 8641, 8647, 8663, 8669, 8677, 8681, 8689, 8693, 8699, 8707, 8713, 8719, 8731, 8737, 8741, 8747, 8753, 8761, 8779, 8783, 8803, 8807, 8819, 8821, 8831, 8837, 8839, 8849, 8861, 8863, 8867, 8887, 8893, 8923, 8929, 8933, 8941, 8951, 8963, 8969, 8971, 8999, 9001, 9007, 9011, 9013, 9029, 9041, 9043, 9049, 9059, 9067, 9091, 9103, 9109, 9127, 9133, 9137, 9151, 9157, 9161, 9173, 9181, 9187, 9199, 9203, 9209, 9221, 9227, 9239, 9241, 9257, 9277, 9281, 9283, 9293, 9311, 9319, 9323, 9337, 9341, 9343, 9349, 9371, 9377, 9391, 9397, 9403, 9413, 9419, 9421, 9431, 9433, 9437, 9439, 9461, 9463, 9467, 9473, 9479, 9491, 9497, 9511, 9521, 9533, 9539, 9547, 9551, 9587, 9601, 9613, 9619, 9623, 9629, 9631, 9643, 9649, 9661, 9677, 9679, 9689, 9697, 9719, 9721, 9733, 9739, 9743, 9749, 9767, 9769, 9781, 9787, 9791, 9803, 9811, 9817, 9829, 9833, 9839, 9851, 9857, 9859, 9871, 9883, 9887, 9901, 9907, 9923, 9929, 9931, 9941, 9949, 9967, 9973]\n",
      "Час виконання методу 2: 0.0 секунд\n",
      "Метод 2 швидше на 0.004133701324462891 секунд\n"
     ]
    }
   ],
   "source": [
    "import time\n",
    "\n",
    "def primes(n):\n",
    "    primes = []\n",
    "    for i in range(2, n + 1):\n",
    "        if i <= 1:\n",
    "            continue\n",
    "        if i <= 3:\n",
    "            primes.append(i)\n",
    "            continue\n",
    "        if i % 2 == 0 or i % 3 == 0:\n",
    "            continue\n",
    "        j = 5\n",
    "        while j * j <= i:\n",
    "            if i % j == 0 or i % (j + 2) == 0:\n",
    "                break\n",
    "            j += 6\n",
    "        else:\n",
    "            primes.append(i)\n",
    "    return primes\n",
    "\n",
    "def eratos(n):\n",
    "    # Робимо список чисел от 2 до n\n",
    "    is_prime = [True] * (n + 1)\n",
    "    is_prime[0] = is_prime[1] = False\n",
    "\n",
    "    # Починаємо с 2, першого простого числа\n",
    "    p = 2\n",
    "    while p ** 2 <= n:\n",
    "        # Якщо p залишається простим числом\n",
    "        if is_prime[p]:\n",
    "            # Відмічаємо всі кратні p як непрості числа\n",
    "            for i in range(p ** 2, n + 1, p):\n",
    "                is_prime[i] = False\n",
    "        p += 1\n",
    "\n",
    "    # Повертаємо список простих чисел\n",
    "    primes = [i for i in range(2, n + 1) if is_prime[i]]\n",
    "    return primes\n",
    "\n",
    "def measure_time(func1, func2, *args, **kwargs):\n",
    "    #Засікаємо час першого методу\n",
    "    start_time1 = time.time()\n",
    "    result1 = func1(*args, **kwargs)\n",
    "    end_time1 = time.time()\n",
    "    execution_time1 = end_time1 - start_time1\n",
    "    #Засікаємо час другого методу\n",
    "    start_time2 = time.time()\n",
    "    result2 = func2(*args, **kwargs)\n",
    "    end_time2 = time.time()\n",
    "    execution_time2 = end_time2 - start_time2\n",
    "\n",
    "    print(\"Прості числа до\", n, \"за методом 1:\", result1)\n",
    "    print(f\"Час виконання методу 1: {execution_time1} секунд\")\n",
    "    print(\"Прості числа до\", n, \"за методом 2:\", result2)\n",
    "    print(f\"Час виконання методу 2: {execution_time2} секунд\")\n",
    "\n",
    "    if execution_time1 < execution_time2:\n",
    "        print(\"Метод 1 швидше на\", execution_time2 - execution_time1, \"секунд\")\n",
    "    elif execution_time1 > execution_time2:\n",
    "        print(\"Метод 2 швидше на\", execution_time1 - execution_time2, \"секунд\")\n",
    "    else:\n",
    "        print(\"Обидва методи впорались за однаковий час\")\n",
    "\n",
    "    return result1, result2\n",
    "\n",
    "n = int(input()) \n",
    "result1, result2 = measure_time(primes, eratos, n)"
   ]
  },
  {
   "cell_type": "code",
   "execution_count": 16,
   "metadata": {},
   "outputs": [
    {
     "name": "stdout",
     "output_type": "stream",
     "text": [
      "Время выполнения функции 1: 0.06527185440063477 секунд\n",
      "Время выполнения функции 2: 0.11697912216186523 секунд\n",
      "Функция 1 быстрее на 0.05170726776123047 секунд\n"
     ]
    }
   ],
   "source": [
    "import time\n",
    "\n",
    "def measure_time(func1, func2, *args, **kwargs):\n",
    "    start_time1 = time.time()\n",
    "    result1 = func1(*args, **kwargs)\n",
    "    end_time1 = time.time()\n",
    "    execution_time1 = end_time1 - start_time1\n",
    "\n",
    "    start_time2 = time.time()\n",
    "    result2 = func2(*args, **kwargs)\n",
    "    end_time2 = time.time()\n",
    "    execution_time2 = end_time2 - start_time2\n",
    "\n",
    "    print(f\"Время выполнения функции 1: {execution_time1} секунд\")\n",
    "    print(f\"Время выполнения функции 2: {execution_time2} секунд\")\n",
    "\n",
    "    if execution_time1 < execution_time2:\n",
    "        print(\"Функция 1 быстрее на\", execution_time2 - execution_time1, \"секунд\")\n",
    "    elif execution_time1 > execution_time2:\n",
    "        print(\"Функция 2 быстрее на\", execution_time1 - execution_time2, \"секунд\")\n",
    "    else:\n",
    "        print(\"Обе функции выполнились за одинаковое время\")\n",
    "\n",
    "    return result1, result2\n",
    "\n",
    "def function1(end):\n",
    "    primes = []\n",
    "    for number in range(2, end + 1):\n",
    "        if number <= 1:\n",
    "            continue\n",
    "        if number <= 3:\n",
    "            primes.append(number)\n",
    "            continue\n",
    "        if number % 2 == 0 or number % 3 == 0:\n",
    "            continue\n",
    "\n",
    "        i = 5\n",
    "        while i * i <= number:\n",
    "            if number % i == 0 or number % (i + 2) == 0:\n",
    "                break\n",
    "            i += 6\n",
    "        else:\n",
    "            primes.append(number)\n",
    "    return primes\n",
    "\n",
    "def function2(end):\n",
    "    primes = [2]\n",
    "    for number in range(3, end + 1, 2):\n",
    "        is_prime = True\n",
    "        for divisor in range(3, int(number ** 0.5) + 1, 2):\n",
    "            if number % divisor == 0:\n",
    "                is_prime = False\n",
    "                break\n",
    "        if is_prime:\n",
    "            primes.append(number)\n",
    "    return primes\n",
    "\n",
    "end = 100000\n",
    "\n",
    "result1, result2 = measure_time(function1, function2, end)\n"
   ]
  },
  {
   "cell_type": "code",
   "execution_count": 31,
   "metadata": {},
   "outputs": [
    {
     "name": "stdout",
     "output_type": "stream",
     "text": [
      "EUR: rateBuy: 39.40000, rateSell: 40.40000\n",
      "USD: rateBuy: 36.80000, rateSell: 37.40000\n"
     ]
    }
   ],
   "source": [
    "\n",
    "import requests \n",
    "import time  \n",
    "import datetime\n",
    "\n",
    "current_date = datetime.date.today()\n",
    "\n",
    "file_name = f\"currency_{datetime.date.today()}_Privat.txt\"\n",
    "\n",
    "URL_Privat = 'https://api.privatbank.ua/p24api/pubinfo?exchange&coursid=5'\n",
    "\n",
    "CURRENCY = (840,978)\n",
    "\n",
    "curr = requests.get(URL_Privat)\n",
    "if curr.status_code == 200:\n",
    "    data = curr.json()\n",
    "elif curr.status_code == 428:\n",
    "    time.sleep(15)\n",
    "else:\n",
    "    print(f'{curr.status_code}')\n",
    "#print(data)\n",
    "for i in data:\n",
    "    print(f\"{i['ccy']}: rateBuy: {i['buy']}, rateSell: {i['sale']}\")\n",
    "with open(file_name, \"w\") as file:\n",
    "    for i in data:\n",
    "        file.write(f\"{i['ccy']}: rateBuy: {i['buy']}, rateSell: {i['sale']}\")\n",
    "#"
   ]
  }
 ],
 "metadata": {
  "kernelspec": {
   "display_name": "Python 3",
   "language": "python",
   "name": "python3"
  },
  "language_info": {
   "codemirror_mode": {
    "name": "ipython",
    "version": 3
   },
   "file_extension": ".py",
   "mimetype": "text/x-python",
   "name": "python",
   "nbconvert_exporter": "python",
   "pygments_lexer": "ipython3",
   "version": "3.11.6"
  }
 },
 "nbformat": 4,
 "nbformat_minor": 2
}
