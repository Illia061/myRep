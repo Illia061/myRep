{
 "cells": [
  {
   "cell_type": "code",
   "execution_count": 10,
   "metadata": {},
   "outputs": [
    {
     "name": "stdout",
     "output_type": "stream",
     "text": [
      "Професор не послідовний\n",
      "Професор послідовний\n",
      "Поріг складання іспиту: 73 - 78 балів\n"
     ]
    }
   ],
   "source": [
    "def exams(**kwargs):\n",
    "    #сортуємо оцінки від меншої до більшої\n",
    "    scor=dict(sorted(kwargs.items(), key=lambda x: x[1][0]))\n",
    "    #оприділяємо мінімальну оцінку(потрібно для циклу)\n",
    "    min_score=min(scor.items(), key=lambda i: i[1][0])[1][0]\n",
    "    #оприділяємо лічильник для нижнього порогу складання іспиту\n",
    "    step1=0\n",
    "    #оприділяємо лічильник, щоб оприділити чи послідовний професор\n",
    "    counter=0\n",
    "    #оприділяємо змінну зі статусом складання іспиту попереднього студента для порівння її з наступним\n",
    "    b=''\n",
    "    #запускаємо цикл по студентам\n",
    "    for key in scor.keys():\n",
    "        #якщо оцінка студента більша за попереднього, при цьому він не здав тест, а попередній студент сдав - лічильник+1, а професор в такому випадку не послідовний\n",
    "        if scor[key][0]>min_score and scor[key][1]!=b and scor[key][1]=='Failed':\n",
    "            counter+=1\n",
    "        min_score=scor[key][0]\n",
    "        b=scor[key][1]\n",
    "    print('Професор не послідовний') if counter>0 else print('Професор послідовний')\n",
    "    #якщо ж професор послідовний, оприділяємо діапазон здачі тесту\n",
    "    #для цього оприділяємо оцінку останнього студента, що не здав і додаємо +1 (це нижній поріг)\n",
    "    #оприділяємо оцінку першого студента, що здав - це верхній поріг\n",
    "    if counter==0:\n",
    "        for key in scor.keys():\n",
    "            if scor[key][0]>min_score and scor[key][1]!=b and scor[key][1]=='Passed':\n",
    "                print(f'Поріг складання іспиту: {step1} - {scor[key][0]} балів')\n",
    "            min_score=scor[key][0]\n",
    "            b=scor[key][1]\n",
    "            step1=scor[key][0]+1\n",
    "\n",
    "scores1={'Student1':(78, 'Failed'), 'Student2':(82, 'Passed'), 'Student3':(97, 'Passed'), 'Student4':(86, 'Passed'), 'Student5':(67, 'Passed'), 'Student6':(75, 'Passed')}\n",
    "exams(**scores1)\n",
    "scores2={'Student1':(84, 'Passed'), 'Student2':(78, 'Passed'), 'Student3':(65, 'Failed'), 'Student4':(90, 'Passed'), 'Student5':(72, 'Failed')}\n",
    "exams(**scores2)"
   ]
  }
 ],
 "metadata": {
  "kernelspec": {
   "display_name": "Python 3",
   "language": "python",
   "name": "python3"
  },
  "language_info": {
   "codemirror_mode": {
    "name": "ipython",
    "version": 3
   },
   "file_extension": ".py",
   "mimetype": "text/x-python",
   "name": "python",
   "nbconvert_exporter": "python",
   "pygments_lexer": "ipython3",
   "version": "3.11.6"
  }
 },
 "nbformat": 4,
 "nbformat_minor": 2
}
