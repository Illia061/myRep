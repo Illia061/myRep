{
 "cells": [
  {
   "cell_type": "code",
   "execution_count": 1,
   "metadata": {},
   "outputs": [
    {
     "name": "stdout",
     "output_type": "stream",
     "text": [
      "2\n"
     ]
    }
   ],
   "source": [
    "b=input()\n",
    "print(b)"
   ]
  },
  {
   "cell_type": "code",
   "execution_count": 2,
   "metadata": {},
   "outputs": [
    {
     "name": "stdout",
     "output_type": "stream",
     "text": [
      "Odd\n"
     ]
    }
   ],
   "source": [
    "text=input('Enter Number: ').strip()\n",
    "num=int(text)\n",
    "if num%2==0:\n",
    "    print('Even')\n",
    "else: print('Odd')\n"
   ]
  },
  {
   "cell_type": "code",
   "execution_count": 3,
   "metadata": {},
   "outputs": [
    {
     "name": "stdout",
     "output_type": "stream",
     "text": [
      "Small\n"
     ]
    }
   ],
   "source": [
    "area=int(input('Enter Number: ').strip())\n",
    "if area>100:\n",
    "    print('Big')\n",
    "else: print('Small')"
   ]
  },
  {
   "cell_type": "code",
   "execution_count": 4,
   "metadata": {},
   "outputs": [
    {
     "ename": "KeyboardInterrupt",
     "evalue": "Interrupted by user",
     "output_type": "error",
     "traceback": [
      "\u001b[1;31m---------------------------------------------------------------------------\u001b[0m",
      "\u001b[1;31mKeyboardInterrupt\u001b[0m                         Traceback (most recent call last)",
      "\u001b[1;32mUntitled-1.ipynb Cell 4\u001b[0m line \u001b[0;36m3\n\u001b[0;32m      <a href='vscode-notebook-cell:Untitled-1.ipynb?jupyter-notebook#W3sdW50aXRsZWQ%3D?line=0'>1</a>\u001b[0m Figure\u001b[39m=\u001b[39m\u001b[39minput\u001b[39m(\u001b[39m'\u001b[39m\u001b[39mEnter Figure: \u001b[39m\u001b[39m'\u001b[39m)\u001b[39m.\u001b[39mstrip()\n\u001b[0;32m      <a href='vscode-notebook-cell:Untitled-1.ipynb?jupyter-notebook#W3sdW50aXRsZWQ%3D?line=1'>2</a>\u001b[0m h\u001b[39m=\u001b[39m\u001b[39mint\u001b[39m(\u001b[39minput\u001b[39m(\u001b[39m'\u001b[39m\u001b[39mEnter Height: \u001b[39m\u001b[39m'\u001b[39m)\u001b[39m.\u001b[39mstrip())\n\u001b[1;32m----> <a href='vscode-notebook-cell:Untitled-1.ipynb?jupyter-notebook#W3sdW50aXRsZWQ%3D?line=2'>3</a>\u001b[0m w\u001b[39m=\u001b[39m\u001b[39mint\u001b[39m(\u001b[39minput\u001b[39;49m(\u001b[39m'\u001b[39;49m\u001b[39mEnter Width: \u001b[39;49m\u001b[39m'\u001b[39;49m)\u001b[39m.\u001b[39mstrip())\n\u001b[0;32m      <a href='vscode-notebook-cell:Untitled-1.ipynb?jupyter-notebook#W3sdW50aXRsZWQ%3D?line=3'>4</a>\u001b[0m \u001b[39mif\u001b[39;00m h\u001b[39m*\u001b[39mw\u001b[39m>\u001b[39m\u001b[39m100\u001b[39m:\n\u001b[0;32m      <a href='vscode-notebook-cell:Untitled-1.ipynb?jupyter-notebook#W3sdW50aXRsZWQ%3D?line=4'>5</a>\u001b[0m     \u001b[39mprint\u001b[39m(\u001b[39m'\u001b[39m\u001b[39mBig\u001b[39m\u001b[39m'\u001b[39m)\n",
      "File \u001b[1;32m~\\AppData\\Roaming\\Python\\Python311\\site-packages\\ipykernel\\kernelbase.py:1202\u001b[0m, in \u001b[0;36mKernel.raw_input\u001b[1;34m(self, prompt)\u001b[0m\n\u001b[0;32m   1200\u001b[0m     msg \u001b[39m=\u001b[39m \u001b[39m\"\u001b[39m\u001b[39mraw_input was called, but this frontend does not support input requests.\u001b[39m\u001b[39m\"\u001b[39m\n\u001b[0;32m   1201\u001b[0m     \u001b[39mraise\u001b[39;00m StdinNotImplementedError(msg)\n\u001b[1;32m-> 1202\u001b[0m \u001b[39mreturn\u001b[39;00m \u001b[39mself\u001b[39;49m\u001b[39m.\u001b[39;49m_input_request(\n\u001b[0;32m   1203\u001b[0m     \u001b[39mstr\u001b[39;49m(prompt),\n\u001b[0;32m   1204\u001b[0m     \u001b[39mself\u001b[39;49m\u001b[39m.\u001b[39;49m_parent_ident[\u001b[39m\"\u001b[39;49m\u001b[39mshell\u001b[39;49m\u001b[39m\"\u001b[39;49m],\n\u001b[0;32m   1205\u001b[0m     \u001b[39mself\u001b[39;49m\u001b[39m.\u001b[39;49mget_parent(\u001b[39m\"\u001b[39;49m\u001b[39mshell\u001b[39;49m\u001b[39m\"\u001b[39;49m),\n\u001b[0;32m   1206\u001b[0m     password\u001b[39m=\u001b[39;49m\u001b[39mFalse\u001b[39;49;00m,\n\u001b[0;32m   1207\u001b[0m )\n",
      "File \u001b[1;32m~\\AppData\\Roaming\\Python\\Python311\\site-packages\\ipykernel\\kernelbase.py:1245\u001b[0m, in \u001b[0;36mKernel._input_request\u001b[1;34m(self, prompt, ident, parent, password)\u001b[0m\n\u001b[0;32m   1242\u001b[0m \u001b[39mexcept\u001b[39;00m \u001b[39mKeyboardInterrupt\u001b[39;00m:\n\u001b[0;32m   1243\u001b[0m     \u001b[39m# re-raise KeyboardInterrupt, to truncate traceback\u001b[39;00m\n\u001b[0;32m   1244\u001b[0m     msg \u001b[39m=\u001b[39m \u001b[39m\"\u001b[39m\u001b[39mInterrupted by user\u001b[39m\u001b[39m\"\u001b[39m\n\u001b[1;32m-> 1245\u001b[0m     \u001b[39mraise\u001b[39;00m \u001b[39mKeyboardInterrupt\u001b[39;00m(msg) \u001b[39mfrom\u001b[39;00m \u001b[39mNone\u001b[39;00m\n\u001b[0;32m   1246\u001b[0m \u001b[39mexcept\u001b[39;00m \u001b[39mException\u001b[39;00m:\n\u001b[0;32m   1247\u001b[0m     \u001b[39mself\u001b[39m\u001b[39m.\u001b[39mlog\u001b[39m.\u001b[39mwarning(\u001b[39m\"\u001b[39m\u001b[39mInvalid Message:\u001b[39m\u001b[39m\"\u001b[39m, exc_info\u001b[39m=\u001b[39m\u001b[39mTrue\u001b[39;00m)\n",
      "\u001b[1;31mKeyboardInterrupt\u001b[0m: Interrupted by user"
     ]
    }
   ],
   "source": [
    "Figure=input('Enter Figure: ').strip()\n",
    "h=int(input('Enter Height: ').strip())\n",
    "w=int(input('Enter Width: ').strip())\n",
    "if h*w>100:\n",
    "    print('Big')\n",
    "elif h*w>0 and h*w<=100:\n",
    "    print('Small')\n",
    "else: print('Error')"
   ]
  },
  {
   "cell_type": "code",
   "execution_count": null,
   "metadata": {},
   "outputs": [
    {
     "name": "stdout",
     "output_type": "stream",
     "text": [
      "[0, 1, 2, 3, 4, 5, 6, 7, 8, 9]\n"
     ]
    }
   ],
   "source": [
    "arr=[]\n",
    "for i in range(0,10):\n",
    "    arr.append(i)\n",
    "print(arr)"
   ]
  },
  {
   "cell_type": "code",
   "execution_count": null,
   "metadata": {},
   "outputs": [
    {
     "name": "stdout",
     "output_type": "stream",
     "text": [
      "6\n"
     ]
    }
   ],
   "source": [
    "#Task1\n",
    "min=int(input('Enter MIN: ').strip())\n",
    "max=int(input('Enter MAX: ').strip())\n",
    "if min>max:\n",
    "    print('Некоректне значення, min більше max')\n",
    "arr=[]\n",
    "sum_even=0\n",
    "for i in range(min,max+1):\n",
    "    arr.append(i)\n",
    "    if i%2==0:\n",
    "        sum_even+=i\n",
    "print(sum_even)"
   ]
  },
  {
   "cell_type": "code",
   "execution_count": null,
   "metadata": {},
   "outputs": [
    {
     "name": "stdout",
     "output_type": "stream",
     "text": [
      "2\n"
     ]
    }
   ],
   "source": [
    "#Task2\n",
    "vowels=['a','o','i','e','u']\n",
    "text=input('Enter your text: ').strip().lower()\n",
    "count_vowels=0\n",
    "for i in text:\n",
    "    if i in vowels:\n",
    "        count_vowels+=1\n",
    "print(count_vowels)"
   ]
  },
  {
   "cell_type": "code",
   "execution_count": null,
   "metadata": {},
   "outputs": [
    {
     "name": "stdout",
     "output_type": "stream",
     "text": [
      "1062\n"
     ]
    }
   ],
   "source": [
    "#Task3\n",
    "text=input('Enter your text: ').strip()\n",
    "sum_text=0\n",
    "for i in range(len(text)):\n",
    "    sum_text+=ord(text[i])\n",
    "print(sum_text)"
   ]
  },
  {
   "cell_type": "code",
   "execution_count": null,
   "metadata": {},
   "outputs": [
    {
     "name": "stdout",
     "output_type": "stream",
     "text": [
      "В тексті всі символи цифри\n"
     ]
    }
   ],
   "source": [
    "#Task4\n",
    "text=input('Enter your text: ').strip()\n",
    "check=0\n",
    "for i in text:\n",
    "    if i.isalpha():\n",
    "        print('В тексті НЕ всі символи цифри')\n",
    "        check=1\n",
    "        break\n",
    "if check==0:\n",
    "    print('В тексті всі символи цифри')"
   ]
  },
  {
   "cell_type": "code",
   "execution_count": null,
   "metadata": {},
   "outputs": [
    {
     "name": "stdout",
     "output_type": "stream",
     "text": [
      "2\n",
      "4\n",
      "8\n",
      "16\n",
      "32\n",
      "64\n",
      "128\n",
      "256\n",
      "512\n",
      "1024\n"
     ]
    }
   ],
   "source": [
    "#Task5\n",
    "num=int(input('Enter number: ').strip())\n",
    "for i in range(1,11):\n",
    "    print(num**i)\n",
    "    \n",
    "#Task6\n",
    "text=input('Enter your text: ').strip().lower()\n",
    "if text[0]==text[-1]:\n",
    "    print('Перший і останній символи однакові')\n",
    "else: print('Перший і останній символи НЕ однакові')"
   ]
  },
  {
   "cell_type": "code",
   "execution_count": null,
   "metadata": {},
   "outputs": [
    {
     "name": "stdout",
     "output_type": "stream",
     "text": [
      "Перший і останній символи НЕ однакові\n"
     ]
    }
   ],
   "source": [
    "#Task5\n",
    "text=input('Enter your text: ').strip().lower()\n",
    "if text[0]==text[-1]:\n",
    "    print('Перший і останній символи однакові')\n",
    "else: print('Перший і останній символи НЕ однакові')"
   ]
  },
  {
   "cell_type": "code",
   "execution_count": null,
   "metadata": {},
   "outputs": [
    {
     "ename": "SyntaxError",
     "evalue": "invalid syntax (2460084664.py, line 4)",
     "output_type": "error",
     "traceback": [
      "\u001b[1;36m  Cell \u001b[1;32mIn[24], line 4\u001b[1;36m\u001b[0m\n\u001b[1;33m    if text.is\u001b[0m\n\u001b[1;37m            ^\u001b[0m\n\u001b[1;31mSyntaxError\u001b[0m\u001b[1;31m:\u001b[0m invalid syntax\n"
     ]
    }
   ],
   "source": [
    "#Task7\n",
    "text=input('Enter your password: ').strip()\n",
    "spec_char=['!','@','#','$','%','^','&','*','(',')','-','_','+','=','`','~']\n",
    "level=0\n",
    "for i in text:\n",
    "    if i in spec_char:\n",
    "        level+=15\n",
    "    if i.isupper():\n",
    "        level+=1\n"
   ]
  },
  {
   "cell_type": "code",
   "execution_count": null,
   "metadata": {},
   "outputs": [
    {
     "ename": "ModuleNotFoundError",
     "evalue": "No module named 'request'",
     "output_type": "error",
     "traceback": [
      "\u001b[1;31m---------------------------------------------------------------------------\u001b[0m",
      "\u001b[1;31mModuleNotFoundError\u001b[0m                       Traceback (most recent call last)",
      "\u001b[1;32mUntitled-1.ipynb Cell 13\u001b[0m line \u001b[0;36m1\n\u001b[1;32m----> <a href='vscode-notebook-cell:Untitled-1.ipynb?jupyter-notebook#X15sdW50aXRsZWQ%3D?line=0'>1</a>\u001b[0m \u001b[39mimport\u001b[39;00m \u001b[39mrequest\u001b[39;00m\n",
      "\u001b[1;31mModuleNotFoundError\u001b[0m: No module named 'request'"
     ]
    }
   ],
   "source": [
    "import request"
   ]
  },
  {
   "cell_type": "code",
   "execution_count": null,
   "metadata": {},
   "outputs": [
    {
     "ename": "ModuleNotFoundError",
     "evalue": "No module named 'requests'",
     "output_type": "error",
     "traceback": [
      "\u001b[1;31m---------------------------------------------------------------------------\u001b[0m",
      "\u001b[1;31mModuleNotFoundError\u001b[0m                       Traceback (most recent call last)",
      "\u001b[1;32mUntitled-1.ipynb Cell 14\u001b[0m line \u001b[0;36m1\n\u001b[1;32m----> <a href='vscode-notebook-cell:Untitled-1.ipynb?jupyter-notebook#X16sdW50aXRsZWQ%3D?line=0'>1</a>\u001b[0m \u001b[39mimport\u001b[39;00m \u001b[39mrequests\u001b[39;00m\n\u001b[0;32m      <a href='vscode-notebook-cell:Untitled-1.ipynb?jupyter-notebook#X16sdW50aXRsZWQ%3D?line=1'>2</a>\u001b[0m req\u001b[39m=\u001b[39mrequests\u001b[39m.\u001b[39mget(\u001b[39m'\u001b[39m\u001b[39mhttps://api.monobank.ua/bank/currency\u001b[39m\u001b[39m'\u001b[39m)\n",
      "\u001b[1;31mModuleNotFoundError\u001b[0m: No module named 'requests'"
     ]
    }
   ],
   "source": [
    "import requests\n",
    "req=requests.get('https://api.monobank.ua/bank/currency')"
   ]
  },
  {
   "cell_type": "code",
   "execution_count": null,
   "metadata": {},
   "outputs": [
    {
     "name": "stderr",
     "output_type": "stream",
     "text": [
      "\"pip\" �� ���� ����७��� ��� ���譥�\n",
      "��������, �ᯮ��塞�� �ணࠬ��� ��� ������ 䠩���.\n"
     ]
    },
    {
     "ename": "ModuleNotFoundError",
     "evalue": "No module named 'requests'",
     "output_type": "error",
     "traceback": [
      "\u001b[1;31m---------------------------------------------------------------------------\u001b[0m",
      "\u001b[1;31mModuleNotFoundError\u001b[0m                       Traceback (most recent call last)",
      "\u001b[1;32mUntitled-1.ipynb Cell 15\u001b[0m line \u001b[0;36m2\n\u001b[0;32m      <a href='vscode-notebook-cell:Untitled-1.ipynb?jupyter-notebook#X21sdW50aXRsZWQ%3D?line=0'>1</a>\u001b[0m get_ipython()\u001b[39m.\u001b[39msystem(\u001b[39m'\u001b[39m\u001b[39mpip requests install\u001b[39m\u001b[39m'\u001b[39m)\n\u001b[1;32m----> <a href='vscode-notebook-cell:Untitled-1.ipynb?jupyter-notebook#X21sdW50aXRsZWQ%3D?line=1'>2</a>\u001b[0m \u001b[39mimport\u001b[39;00m \u001b[39mrequests\u001b[39;00m\n\u001b[0;32m      <a href='vscode-notebook-cell:Untitled-1.ipynb?jupyter-notebook#X21sdW50aXRsZWQ%3D?line=2'>3</a>\u001b[0m req\u001b[39m=\u001b[39mrequests\u001b[39m.\u001b[39mget(\u001b[39m'\u001b[39m\u001b[39mhttps://api.monobank.ua/bank/currency\u001b[39m\u001b[39m'\u001b[39m)\n",
      "\u001b[1;31mModuleNotFoundError\u001b[0m: No module named 'requests'"
     ]
    }
   ],
   "source": [
    "!pip requests install\n",
    "import requests\n",
    "req=requests.get('https://api.monobank.ua/bank/currency')"
   ]
  },
  {
   "cell_type": "code",
   "execution_count": null,
   "metadata": {},
   "outputs": [
    {
     "ename": "ModuleNotFoundError",
     "evalue": "No module named 'requests'",
     "output_type": "error",
     "traceback": [
      "\u001b[1;31m---------------------------------------------------------------------------\u001b[0m",
      "\u001b[1;31mModuleNotFoundError\u001b[0m                       Traceback (most recent call last)",
      "\u001b[1;32mUntitled-1.ipynb Cell 16\u001b[0m line \u001b[0;36m1\n\u001b[1;32m----> <a href='vscode-notebook-cell:Untitled-1.ipynb?jupyter-notebook#X21sdW50aXRsZWQ%3D?line=0'>1</a>\u001b[0m \u001b[39mimport\u001b[39;00m \u001b[39mrequests\u001b[39;00m \n\u001b[0;32m      <a href='vscode-notebook-cell:Untitled-1.ipynb?jupyter-notebook#X21sdW50aXRsZWQ%3D?line=2'>3</a>\u001b[0m req \u001b[39m=\u001b[39m requests\u001b[39m.\u001b[39mget(\u001b[39m'\u001b[39m\u001b[39mhttps://api.monobank.ua/bank/currency\u001b[39m\u001b[39m'\u001b[39m)\n\u001b[0;32m      <a href='vscode-notebook-cell:Untitled-1.ipynb?jupyter-notebook#X21sdW50aXRsZWQ%3D?line=4'>5</a>\u001b[0m \u001b[39mprint\u001b[39m(req, req\u001b[39m.\u001b[39mstatus_code)\n",
      "\u001b[1;31mModuleNotFoundError\u001b[0m: No module named 'requests'"
     ]
    }
   ],
   "source": [
    "import requests \n",
    "\n",
    "req = requests.get('https://api.monobank.ua/bank/currency')\n",
    "\n",
    "print(req, req.status_code)\n",
    "\n",
    "currency = {\n",
    "    840: '💵',\n",
    "    978: '💶'\n",
    "}\n",
    "\n",
    "if check_status_code(req.status_code):\n",
    "    print('We can work with currency')\n",
    "    for i in req.json():\n",
    "        if i['currencyCodeA'] in (840, 978):\n",
    "            print(f\"Code is: {i['currencyCodeA']} Image: {currency[i['currencyCodeA']]} Buy: {i['rateBuy']}\")\n",
    "else:\n",
    "    print(f'we can\\'t work with currency {check_status_code(req)}')"
   ]
  },
  {
   "cell_type": "code",
   "execution_count": null,
   "metadata": {},
   "outputs": [
    {
     "name": "stdout",
     "output_type": "stream",
     "text": [
      "Collecting requests\n",
      "  Obtaining dependency information for requests from https://files.pythonhosted.org/packages/70/8e/0e2d847013cb52cd35b38c009bb167a1a26b2ce6cd6965bf26b47bc0bf44/requests-2.31.0-py3-none-any.whl.metadata\n",
      "  Downloading requests-2.31.0-py3-none-any.whl.metadata (4.6 kB)\n",
      "Collecting charset-normalizer<4,>=2 (from requests)\n",
      "  Obtaining dependency information for charset-normalizer<4,>=2 from https://files.pythonhosted.org/packages/92/5e/50028bbb269986d9bc30270cd46b47ea44a1ca0b3f8da3a8429680d37050/charset_normalizer-3.3.0-cp311-cp311-win_amd64.whl.metadata\n",
      "  Downloading charset_normalizer-3.3.0-cp311-cp311-win_amd64.whl.metadata (33 kB)\n",
      "Collecting idna<4,>=2.5 (from requests)\n",
      "  Downloading idna-3.4-py3-none-any.whl (61 kB)\n",
      "     ---------------------------------------- 0.0/61.5 kB ? eta -:--:--\n",
      "     ---------------------------------------- 61.5/61.5 kB 1.7 MB/s eta 0:00:00\n",
      "Collecting urllib3<3,>=1.21.1 (from requests)\n",
      "  Obtaining dependency information for urllib3<3,>=1.21.1 from https://files.pythonhosted.org/packages/d2/b2/b157855192a68541a91ba7b2bbcb91f1b4faa51f8bae38d8005c034be524/urllib3-2.0.7-py3-none-any.whl.metadata\n",
      "  Downloading urllib3-2.0.7-py3-none-any.whl.metadata (6.6 kB)\n",
      "Collecting certifi>=2017.4.17 (from requests)\n",
      "  Obtaining dependency information for certifi>=2017.4.17 from https://files.pythonhosted.org/packages/4c/dd/2234eab22353ffc7d94e8d13177aaa050113286e93e7b40eae01fbf7c3d9/certifi-2023.7.22-py3-none-any.whl.metadata\n",
      "  Downloading certifi-2023.7.22-py3-none-any.whl.metadata (2.2 kB)\n",
      "Downloading requests-2.31.0-py3-none-any.whl (62 kB)\n",
      "   ---------------------------------------- 0.0/62.6 kB ? eta -:--:--\n",
      "   ---------------------------------------- 62.6/62.6 kB 3.3 MB/s eta 0:00:00\n",
      "Downloading certifi-2023.7.22-py3-none-any.whl (158 kB)\n",
      "   ---------------------------------------- 0.0/158.3 kB ? eta -:--:--\n",
      "   -------------------------------------- - 153.6/158.3 kB 3.1 MB/s eta 0:00:01\n",
      "   ---------------------------------------- 158.3/158.3 kB 3.2 MB/s eta 0:00:00\n",
      "Downloading charset_normalizer-3.3.0-cp311-cp311-win_amd64.whl (97 kB)\n",
      "   ---------------------------------------- 0.0/97.8 kB ? eta -:--:--\n",
      "   ---------------------------------------- 97.8/97.8 kB 5.5 MB/s eta 0:00:00\n",
      "Downloading urllib3-2.0.7-py3-none-any.whl (124 kB)\n",
      "   ---------------------------------------- 0.0/124.2 kB ? eta -:--:--\n",
      "   ---------------------------------------- 124.2/124.2 kB 3.7 MB/s eta 0:00:00\n",
      "Installing collected packages: urllib3, idna, charset-normalizer, certifi, requests\n",
      "Successfully installed certifi-2023.7.22 charset-normalizer-3.3.0 idna-3.4 requests-2.31.0 urllib3-2.0.7\n",
      "Note: you may need to restart the kernel to use updated packages.\n"
     ]
    },
    {
     "name": "stderr",
     "output_type": "stream",
     "text": [
      "  WARNING: The script normalizer.exe is installed in 'c:\\Users\\Analytic\\AppData\\Local\\Programs\\Python\\Python311\\Scripts' which is not on PATH.\n",
      "  Consider adding this directory to PATH or, if you prefer to suppress this warning, use --no-warn-script-location.\n",
      "\n",
      "[notice] A new release of pip is available: 23.2.1 -> 23.3\n",
      "[notice] To update, run: python.exe -m pip install --upgrade pip\n"
     ]
    }
   ],
   "source": [
    "pip install requests"
   ]
  },
  {
   "cell_type": "code",
   "execution_count": null,
   "metadata": {},
   "outputs": [
    {
     "name": "stdout",
     "output_type": "stream",
     "text": [
      "<Response [200]> 200\n"
     ]
    },
    {
     "ename": "NameError",
     "evalue": "name 'check_status_code' is not defined",
     "output_type": "error",
     "traceback": [
      "\u001b[1;31m---------------------------------------------------------------------------\u001b[0m",
      "\u001b[1;31mNameError\u001b[0m                                 Traceback (most recent call last)",
      "\u001b[1;32mUntitled-1.ipynb Cell 18\u001b[0m line \u001b[0;36m1\n\u001b[0;32m      <a href='vscode-notebook-cell:Untitled-1.ipynb?jupyter-notebook#X23sdW50aXRsZWQ%3D?line=4'>5</a>\u001b[0m \u001b[39mprint\u001b[39m(req, req\u001b[39m.\u001b[39mstatus_code)\n\u001b[0;32m      <a href='vscode-notebook-cell:Untitled-1.ipynb?jupyter-notebook#X23sdW50aXRsZWQ%3D?line=6'>7</a>\u001b[0m currency \u001b[39m=\u001b[39m {\n\u001b[0;32m      <a href='vscode-notebook-cell:Untitled-1.ipynb?jupyter-notebook#X23sdW50aXRsZWQ%3D?line=7'>8</a>\u001b[0m     \u001b[39m840\u001b[39m: \u001b[39m'\u001b[39m\u001b[39m💵\u001b[39m\u001b[39m'\u001b[39m,\n\u001b[0;32m      <a href='vscode-notebook-cell:Untitled-1.ipynb?jupyter-notebook#X23sdW50aXRsZWQ%3D?line=8'>9</a>\u001b[0m     \u001b[39m978\u001b[39m: \u001b[39m'\u001b[39m\u001b[39m💶\u001b[39m\u001b[39m'\u001b[39m\n\u001b[0;32m     <a href='vscode-notebook-cell:Untitled-1.ipynb?jupyter-notebook#X23sdW50aXRsZWQ%3D?line=9'>10</a>\u001b[0m }\n\u001b[1;32m---> <a href='vscode-notebook-cell:Untitled-1.ipynb?jupyter-notebook#X23sdW50aXRsZWQ%3D?line=11'>12</a>\u001b[0m \u001b[39mif\u001b[39;00m check_status_code(req\u001b[39m.\u001b[39mstatus_code):\n\u001b[0;32m     <a href='vscode-notebook-cell:Untitled-1.ipynb?jupyter-notebook#X23sdW50aXRsZWQ%3D?line=12'>13</a>\u001b[0m     \u001b[39mprint\u001b[39m(\u001b[39m'\u001b[39m\u001b[39mWe can work with currency\u001b[39m\u001b[39m'\u001b[39m)\n\u001b[0;32m     <a href='vscode-notebook-cell:Untitled-1.ipynb?jupyter-notebook#X23sdW50aXRsZWQ%3D?line=13'>14</a>\u001b[0m     \u001b[39mfor\u001b[39;00m i \u001b[39min\u001b[39;00m req\u001b[39m.\u001b[39mjson():\n",
      "\u001b[1;31mNameError\u001b[0m: name 'check_status_code' is not defined"
     ]
    }
   ],
   "source": [
    "import requests \n",
    "\n",
    "req = requests.get('https://api.monobank.ua/bank/currency')\n",
    "\n",
    "print(req, req.status_code)\n",
    "\n",
    "currency = {\n",
    "    840: '💵',\n",
    "    978: '💶'\n",
    "}\n",
    "\n",
    "if check_status_code(req.status_code):\n",
    "    print('We can work with currency')\n",
    "    for i in req.json():\n",
    "        if i['currencyCodeA'] in (840, 978):\n",
    "            print(f\"Code is: {i['currencyCodeA']} Image: {currency[i['currencyCodeA']]} Buy: {i['rateBuy']}\")\n",
    "else:\n",
    "    print(f'we can\\'t work with currency {check_status_code(req)}')"
   ]
  },
  {
   "cell_type": "code",
   "execution_count": null,
   "metadata": {},
   "outputs": [],
   "source": [
    "def check_status_code(status_code: str) -> bool:\n",
    "    match status_code:\n",
    "        case 200: \n",
    "            return True\n",
    "        case 404:\n",
    "            return False\n",
    "        case _ as e:\n",
    "            return f'Error {e}'"
   ]
  },
  {
   "cell_type": "code",
   "execution_count": null,
   "metadata": {},
   "outputs": [
    {
     "name": "stdout",
     "output_type": "stream",
     "text": [
      "<Response [200]> 200\n",
      "We can work with currency\n",
      "Code is: 840 Image: 💵 Buy: 36.56\n",
      "Code is: 978 Image: 💶 Buy: 38.68\n",
      "Code is: 978 Image: 💶 Buy: 1.052\n"
     ]
    }
   ],
   "source": [
    "import requests \n",
    "\n",
    "req = requests.get('https://api.monobank.ua/bank/currency')\n",
    "\n",
    "print(req, req.status_code)\n",
    "\n",
    "currency = {\n",
    "    840: '💵',\n",
    "    978: '💶'\n",
    "}\n",
    "\n",
    "if check_status_code(req.status_code):\n",
    "    print('We can work with currency')\n",
    "    for i in req.json():\n",
    "        if i['currencyCodeA'] in (840, 978):\n",
    "            print(f\"Code is: {i['currencyCodeA']} Image: {currency[i['currencyCodeA']]} Buy: {i['rateBuy']}\")\n",
    "else:\n",
    "    print(f'we can\\'t work with currency {check_status_code(req)}')"
   ]
  },
  {
   "cell_type": "code",
   "execution_count": null,
   "metadata": {},
   "outputs": [
    {
     "data": {
      "text/plain": [
       "2"
      ]
     },
     "execution_count": 4,
     "metadata": {},
     "output_type": "execute_result"
    }
   ],
   "source": [
    "def try_p():\n",
    "    return\n",
    "def fun(a,b):\n",
    "    if a>b:\n",
    "        return a\n",
    "    else: return b\n",
    "fun(2,1)"
   ]
  },
  {
   "cell_type": "code",
   "execution_count": null,
   "metadata": {},
   "outputs": [
    {
     "name": "stdout",
     "output_type": "stream",
     "text": [
      "26\n"
     ]
    }
   ],
   "source": [
    "def sum(*a):\n",
    "    res=0\n",
    "    for i in a:\n",
    "        res+=i\n",
    "    return res\n",
    "print(sum(2,4,5,7,8))"
   ]
  },
  {
   "cell_type": "code",
   "execution_count": null,
   "metadata": {},
   "outputs": [
    {
     "name": "stdout",
     "output_type": "stream",
     "text": [
      "{3, 4, 5, 6}\n"
     ]
    }
   ],
   "source": [
    "def some_func(list1, list2):\n",
    "    return set(list2).intersection(set(list2))\n",
    "print(some_func([1,2,3,4],[3,4,5,6]))"
   ]
  },
  {
   "cell_type": "code",
   "execution_count": null,
   "metadata": {},
   "outputs": [
    {
     "name": "stdout",
     "output_type": "stream",
     "text": [
      "False\n"
     ]
    }
   ],
   "source": [
    "def some_func(list1):\n",
    "    if len(list1)==len(set(setlist11)):\n",
    "        return True\n",
    "    else: return False\n",
    "print(some_func([1,2,3,4,4]))"
   ]
  },
  {
   "cell_type": "code",
   "execution_count": null,
   "metadata": {},
   "outputs": [
    {
     "name": "stdout",
     "output_type": "stream",
     "text": [
      "[1, 2, 3, 4]\n"
     ]
    }
   ],
   "source": [
    "def some_func(list1):\n",
    "    return list(set(list1))\n",
    "print(some_func([1,2,3,4,4]))"
   ]
  },
  {
   "cell_type": "code",
   "execution_count": null,
   "metadata": {},
   "outputs": [
    {
     "data": {
      "text/plain": [
       "False"
      ]
     },
     "execution_count": 19,
     "metadata": {},
     "output_type": "execute_result"
    }
   ],
   "source": [
    "def even_int(a:int):\n",
    "    return True if a%2==0 else False\n",
    "even_int(3)"
   ]
  },
  {
   "cell_type": "code",
   "execution_count": null,
   "metadata": {},
   "outputs": [
    {
     "data": {
      "text/plain": [
       "10"
      ]
     },
     "execution_count": 32,
     "metadata": {},
     "output_type": "execute_result"
    }
   ],
   "source": [
    "def max_int(*a):\n",
    "    return max(*a)       \n",
    "max_int(1,2,10,9)"
   ]
  },
  {
   "cell_type": "code",
   "execution_count": null,
   "metadata": {},
   "outputs": [
    {
     "data": {
      "text/plain": [
       "False"
      ]
     },
     "execution_count": 28,
     "metadata": {},
     "output_type": "execute_result"
    }
   ],
   "source": [
    "def palindrom(text: str):\n",
    "    return True if text==text[::-1] else False"
   ]
  },
  {
   "cell_type": "code",
   "execution_count": null,
   "metadata": {},
   "outputs": [
    {
     "data": {
      "text/plain": [
       "462"
      ]
     },
     "execution_count": 35,
     "metadata": {},
     "output_type": "execute_result"
    }
   ],
   "source": [
    "def sum_voices(text: str):\n",
    "    sum=0\n",
    "    for i in text:\n",
    "        if i not in ['a','e','y','u','i','o']:\n",
    "            sum+=ord(i)\n",
    "    return sum\n",
    "sum_voices('textin')"
   ]
  },
  {
   "cell_type": "code",
   "execution_count": null,
   "metadata": {},
   "outputs": [
    {
     "data": {
      "text/plain": [
       "False"
      ]
     },
     "execution_count": 42,
     "metadata": {},
     "output_type": "execute_result"
    }
   ],
   "source": [
    "def prime_num(a:int):\n",
    "    for i in range(2,a):\n",
    "        b=0\n",
    "        if a%i==0:\n",
    "            b=1\n",
    "        break\n",
    "    return True if b==1 else False\n",
    "    \n",
    "prime_num(19)"
   ]
  },
  {
   "cell_type": "code",
   "execution_count": null,
   "metadata": {},
   "outputs": [
    {
     "name": "stdout",
     "output_type": "stream",
     "text": [
      "Auto(mark='Jaguar', engine=2.5, type_='titp', color='black')\n",
      "Alice Alice\n",
      "30 30\n",
      "Female Female\n",
      "Name: Alice, Age: 25, Gender: Female\n",
      "Name: Bob, Age: 30, Gender: Male\n"
     ]
    }
   ],
   "source": [
    "from collections import namedtuple # імпорт функціоналу із бібліотеки \n",
    "\n",
    "Person = namedtuple('User1', ['name', 'age', 'gender']) # фактичне створення структури\n",
    "\n",
    "person1 = Person(name='Alice', age=25, gender='Female') # init person1 = ('Alice', 25, 'Female' )\n",
    "person2 = Person(name='Bob', age=30, gender='Male')\n",
    "\n",
    "Auto = namedtuple('Auto', ['mark', 'engine', 'type_', 'color'])\n",
    "\n",
    "jaguar = Auto(mark = 'Jaguar', engine= 2.5, type_ = 'titp', color= 'black')\n",
    "print(jaguar)\n",
    "\n",
    "print(person1.name, person1[0])  \n",
    "print(person2.age, person2[1])   \n",
    "print(person1.gender,person1[2]) \n",
    "\n",
    "for person in [person1, person2]:\n",
    "    print(f\"Name: {person.name}, Age: {person.age}, Gender: {person.gender}\")"
   ]
  },
  {
   "cell_type": "code",
   "execution_count": null,
   "metadata": {},
   "outputs": [
    {
     "name": "stdout",
     "output_type": "stream",
     "text": [
      "['1', '2', '3', '4', '5']\n",
      "[1, 2, 3, 4, 5]\n"
     ]
    }
   ],
   "source": [
    "text=['1','2','3','4','5']\n",
    "numbers=map(lambda x: int(x), text)\n",
    "print(text)\n",
    "print(list(numbers))\n"
   ]
  },
  {
   "cell_type": "code",
   "execution_count": null,
   "metadata": {},
   "outputs": [
    {
     "name": "stdout",
     "output_type": "stream",
     "text": [
      "[2, 4, 6, 8, 10]\n"
     ]
    }
   ],
   "source": [
    "numbers=[1,2,3,4,5,6,7,8,9,10]\n",
    "even = list(filter(lambda x: x % 2 == 0, numbers))\n",
    "print(even)"
   ]
  },
  {
   "cell_type": "code",
   "execution_count": null,
   "metadata": {},
   "outputs": [
    {
     "name": "stdout",
     "output_type": "stream",
     "text": [
      "120\n"
     ]
    }
   ],
   "source": [
    "from functools import reduce\n",
    "numbers=[1,2,3,4,5]\n",
    "product = reduce(lambda x, y: x*y, numbers)\n",
    "print(product)"
   ]
  },
  {
   "cell_type": "code",
   "execution_count": null,
   "metadata": {},
   "outputs": [
    {
     "name": "stdout",
     "output_type": "stream",
     "text": [
      "[1, 4, 9, 16, 25]\n"
     ]
    }
   ],
   "source": [
    "numbers=[1,2,3,4,5]\n",
    "sq = list(map(lambda x: x ** 2, numbers))\n",
    "print(sq)"
   ]
  },
  {
   "cell_type": "code",
   "execution_count": null,
   "metadata": {},
   "outputs": [
    {
     "name": "stdout",
     "output_type": "stream",
     "text": [
      "[1, 3, 5, 7, 9]\n"
     ]
    }
   ],
   "source": [
    "numbers=[1, -2, 3, -4, 5, -6, 7, -8, 9, -10]\n",
    "positiv = list(filter(lambda x: x > 0, numbers))\n",
    "print(positiv)"
   ]
  },
  {
   "cell_type": "code",
   "execution_count": null,
   "metadata": {},
   "outputs": [],
   "source": [
    "def exams(**kwargs):\n",
    "    #сортуємо оцінки від меншої до більшої\n",
    "    scor=dict(sorted(kwargs.items(), key=lambda x: x[1][0]))\n",
    "    #оприділяємо мінімальну оцінку(потрібно для циклу)\n",
    "    min_score=min(scor.items(), key=lambda i: i[1][0])[1][0]\n",
    "    #оприділяємо лічильник для нижнього порогу складання іспиту\n",
    "    step1=0\n",
    "    #оприділяємо лічильник, щоб визначити чи послідовний професор\n",
    "    counter=0\n",
    "    #оприділяємо змінну зі статусом складання іспиту попереднього студента для порівння її з наступним\n",
    "    b=''\n",
    "    #запускаємо цикл по студентам\n",
    "    for key in scor.keys():\n",
    "        #якщо оцінка студента більша за попереднього, при цьому він не здав тест, а попередній студент сдав - лічильник+1, а професор в такому випадку не послідовний\n",
    "        if scor[key][0]>min_score  and scor[key][1]=='Failed' and scor[key][1]!=b:\n",
    "            counter+=1\n",
    "        if counter>0:\n",
    "            print('Професор не послідовний') \n",
    "            break\n",
    "        #якщо ж професор послідовний, оприділяємо діапазон здачі тесту\n",
    "        #для цього оприділяємо оцінку останнього студента, що не здав і додаємо +1 (це нижній поріг)\n",
    "        #оприділяємо оцінку першого студента, що здав - це верхній поріг\n",
    "        elif counter==0 and scor[key][0]>min_score and scor[key][1]!=b and scor[key][1]=='Passed':\n",
    "            print(f'Професор послідовний \\nПоріг складання іспиту: {step1} - {scor[key][0]} балів')\n",
    "        min_score=scor[key][0]\n",
    "        b=scor[key][1]\n",
    "        step1=scor[key][0]+1\n",
    "\n",
    "scores1={'Student1':(78, 'Failed'), 'Student2':(82, 'Passed'), 'Student3':(97, 'Passed'), 'Student4':(86, 'Passed'), 'Student5':(67, 'Passed'), 'Student6':(75, 'Passed')}\n",
    "exams(**scores1)\n",
    "scores2={'Student1':(84, 'Passed'), 'Student2':(78, 'Passed'), 'Student3':(65, 'Failed'), 'Student4':(90, 'Passed'), 'Student5':(79, 'Failed')}\n",
    "exams(**scores2)"
   ]
  },
  {
   "cell_type": "code",
   "execution_count": null,
   "metadata": {},
   "outputs": [],
   "source": [
    "file = open('Japan.txt', 'w')\n",
    "\n",
    "file.write('Capital: Tokyo\\nPopulation: 120_000_00')\n",
    "\n",
    "file.close()"
   ]
  },
  {
   "cell_type": "code",
   "execution_count": null,
   "metadata": {},
   "outputs": [
    {
     "name": "stdout",
     "output_type": "stream",
     "text": [
      "15\n",
      "[5, 6, 6]\n",
      "[6, 7, 8, 9, 10]\n",
      "True\n",
      "['APPLE', 'BANANA', 'CHERRY']\n"
     ]
    }
   ],
   "source": [
    "#6\n",
    "from functools import reduce\n",
    "numbers=[1,2,3,4,5]\n",
    "print(reduce(lambda x, y: x+y, numbers))\n",
    "\n",
    "#7\n",
    "text=['apple','banana', 'cherry']\n",
    "print(list(map(lambda x: len(x), text)))\n",
    "\n",
    "#8\n",
    "numbers1=[1, 2, 3, 4, 5, 6, 7, 8, 9, 10]\n",
    "print(list(filter(lambda x: x > sum(numbers1)/len(numbers1), numbers1)))\n",
    "\n",
    "#9\n",
    "from functools import reduce\n",
    "numbers2=[1, 5, 3, 9, 2]\n",
    "print(reduce(lambda x, y: x<y, numbers2))\n",
    "\n",
    "#10\n",
    "text=['apple','banana', 'cherry']\n",
    "print(list(map(lambda x: x.upper(), text)))\n"
   ]
  },
  {
   "cell_type": "code",
   "execution_count": null,
   "metadata": {},
   "outputs": [],
   "source": [
    "#1\n",
    "dict1={'UK': 'London', 'Germany': 'Berlin', 'Ukraine': 'Kyiv'}\n",
    "with open(\"Country.txt\", 'w') as file1:\n",
    "    for key, value in dict1.items():\n",
    "        file1.write(f'Country: {key}. Capital is: {value} \\n')\n",
    "        \n",
    "#2\n",
    "with open(\"Japan.txt\", 'a+') as file2:\n",
    "    file2.write('\\nState system: constitutional monarchy')"
   ]
  },
  {
   "cell_type": "code",
   "execution_count": null,
   "metadata": {},
   "outputs": [],
   "source": [
    "#3\n",
    "from datetime import date\n",
    "with open(\"Japan.txt\", 'r+') as file3, open(f'Japan_Backup_{date.today()}.txt', 'w+') as file4:\n",
    "    text=file3.read()\n",
    "    file4.write(text)"
   ]
  },
  {
   "cell_type": "code",
   "execution_count": 10,
   "metadata": {},
   "outputs": [
    {
     "name": "stdout",
     "output_type": "stream",
     "text": [
      "Помилка: Неправильний ввід\n"
     ]
    }
   ],
   "source": [
    "\n",
    "def calculate(a,b):\n",
    "    if oper == '+':\n",
    "        print(a + b)\n",
    "    elif oper == '-':\n",
    "        print(a - b)\n",
    "    elif oper == '*':\n",
    "        print(a * b)\n",
    "    elif oper == '/':\n",
    "        print(a / b)\n",
    "    elif oper == '**':\n",
    "        print(a ** b)\n",
    "\n",
    "try:\n",
    "    num1, num2 = int(input('Введіть число 1:')), int(input('Введіть число 2:'))\n",
    "    oper=input('Введіть оператор')\n",
    "    calculate(num1,num2)\n",
    "except ZeroDivisionError:\n",
    "    print('Не можна ділити на 0')\n",
    "except (ValueError, SyntaxError, NameError):\n",
    "    print(\"Помилка: Неправильний ввід\")"
   ]
  },
  {
   "cell_type": "code",
   "execution_count": 3,
   "metadata": {},
   "outputs": [
    {
     "name": "stdout",
     "output_type": "stream",
     "text": [
      "Помилка: введыть позитивне число\n",
      "Помилка: введыть позитивне число\n",
      "Помилка: введыть позитивне число\n",
      "Помилка: введыть позитивне число\n",
      "6.0\n"
     ]
    }
   ],
   "source": [
    "def calculat():\n",
    "    while True:\n",
    "        num1 = input('Введіть число 1:')\n",
    "        try:\n",
    "            a=float(num1)\n",
    "            if a>0:\n",
    "                print(a)\n",
    "                break\n",
    "            else: print('Помилка: введыть позитивне число')\n",
    "        except ValueError:\n",
    "            print(\"Помилка: Неправильний ввід. Введіть число\")\n",
    "        \n",
    "calculat()\n"
   ]
  }
 ],
 "metadata": {
  "kernelspec": {
   "display_name": "Python 3",
   "language": "python",
   "name": "python3"
  },
  "language_info": {
   "codemirror_mode": {
    "name": "ipython",
    "version": 3
   },
   "file_extension": ".py",
   "mimetype": "text/x-python",
   "name": "python",
   "nbconvert_exporter": "python",
   "pygments_lexer": "ipython3",
   "version": "3.11.6"
  }
 },
 "nbformat": 4,
 "nbformat_minor": 2
}
