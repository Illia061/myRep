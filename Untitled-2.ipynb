{
 "cells": [
  {
   "cell_type": "code",
   "execution_count": 2,
   "metadata": {},
   "outputs": [
    {
     "name": "stdout",
     "output_type": "stream",
     "text": [
      "Name: Illia, Surname: O\n"
     ]
    }
   ],
   "source": [
    "class Person:\n",
    "    dt = '2023-11-09'\n",
    "    \n",
    "    def __init__(self, name:str, surname:str, age:int, isAdmin:bool = False):\n",
    "        self.name = name \n",
    "        self.surname = surname\n",
    "        self.age = age \n",
    "        self.isAdmin = isAdmin\n",
    "    \n",
    "    def display(self):\n",
    "        print(f'Name: {self.name}, Surname: {self.surname}')\n",
    "        \n",
    "    def fullname(self):\n",
    "        return self.name + self.surname\n",
    "    \n",
    "user1=Person('Illia', 'O', 29)\n",
    "user1.display()"
   ]
  },
  {
   "cell_type": "code",
   "execution_count": 3,
   "metadata": {},
   "outputs": [
    {
     "name": "stdout",
     "output_type": "stream",
     "text": [
      "<__main__.Rectangle object at 0x00000240C2212850> <class '__main__.Rectangle'>\n",
      "<__main__.Rectangle object at 0x00000240C2212650> 4 4\n",
      "Width 4\n",
      "Height 4 16\n",
      "100 Width 5\n",
      "Height 20\n"
     ]
    }
   ],
   "source": [
    "class Rectangle: # class - struc, blueprint \n",
    "    pass  \n",
    "    \n",
    "fig = Rectangle() \n",
    "print(fig, type(fig))\n",
    "\n",
    "class Rectangle: \n",
    "    \n",
    "    def __init__(self, width:float, height:float): # конструктор, fist arg self\n",
    "        self.width = width\n",
    "        self.height = height\n",
    "    \n",
    "    \n",
    "    def display(self): \n",
    "        return f'Width {self.width}\\nHeight {self.height}'\n",
    "    \n",
    "    \n",
    "    def area(self):\n",
    "        return self.width * self.height\n",
    "\n",
    "\n",
    "sq = Rectangle(4, 4)\n",
    "print(sq, sq.height, sq.width)\n",
    "print(sq.display(), sq.area())\n",
    "\n",
    "sq1 = Rectangle(5, 20)\n",
    "print(sq1.area(), sq1.display())"
   ]
  },
  {
   "cell_type": "code",
   "execution_count": 4,
   "metadata": {},
   "outputs": [
    {
     "name": "stdout",
     "output_type": "stream",
     "text": [
      "<__main__.Rectangle object at 0x00000240C223FB10> 7 4\n",
      "Width 4\n",
      "Height 7 28 22 8.06225774829855\n"
     ]
    }
   ],
   "source": [
    "class Rectangle: \n",
    "    \n",
    "    def __init__(self, width:float, height:float):\n",
    "        self.width = width\n",
    "        self.height = height\n",
    "    \n",
    "    \n",
    "    def display(self): \n",
    "        return f'Width {self.width}\\nHeight {self.height}'\n",
    "    \n",
    "    \n",
    "    def area(self):\n",
    "        return self.width * self.height\n",
    "    \n",
    "    def per(self):\n",
    "        return 2* (self.width + self.height)\n",
    "    def diagonal(self):\n",
    "        return (self.width**2 + self.height**2)**0.5\n",
    "\n",
    "sq = Rectangle(4, 7)\n",
    "print(sq, sq.height, sq.width)\n",
    "print(sq.display(), sq.area(), sq.per(), sq.diagonal())"
   ]
  },
  {
   "cell_type": "code",
   "execution_count": 17,
   "metadata": {},
   "outputs": [
    {
     "name": "stdout",
     "output_type": "stream",
     "text": [
      "21000\n",
      "Недостатньо коштів\n"
     ]
    }
   ],
   "source": [
    "class BankAccount:\n",
    "    \n",
    "    def __init__(self, acc_number:float, acc_balance: float):\n",
    "        self.acc_number = acc_number\n",
    "        self.acc_balance = acc_balance\n",
    "    def display(self): \n",
    "        return f'Number {self.acc_number}\\nBalance {self.acc_balance}'\n",
    "    def incr(self, cur:float):\n",
    "        self.acc_balance = self.acc_balance + cur\n",
    "        return self.acc_balance\n",
    "    def decr(self, cur:float):\n",
    "        if cur < self.acc_balance:\n",
    "            self.acc_balance = self.acc_balance - cur\n",
    "            return self.acc_balance\n",
    "        else: return 'Недостатньо коштів'\n",
    "    \n",
    "check=BankAccount(111111, 20000)\n",
    "print(check.incr(1000))\n",
    "print(check.decr(30000))"
   ]
  },
  {
   "cell_type": "code",
   "execution_count": 1,
   "metadata": {},
   "outputs": [
    {
     "name": "stdout",
     "output_type": "stream",
     "text": [
      "John 30\n",
      "Hello, my name is John and I am 30 years old.\n",
      "Hello, my name is Person1 and I am 25 years old. Person\n",
      "90000\n",
      "Hello, my name is Jane and I am 25 years old.\n",
      "My salary is 50000 dollars.\n"
     ]
    }
   ],
   "source": [
    "class Person(object):\n",
    "    somet_attr = 'Person'\n",
    "    \n",
    "    def __init__(self, name, age):\n",
    "        self.name = name\n",
    "        self.age = age\n",
    "\n",
    "    def say_hello(self):\n",
    "        print( f\"Hello, my name is {self.name} and I am {self.age} years old.\")\n",
    "\n",
    "    def __repr__(self): \n",
    "        return f\"Hello, my name is {self.name} and I am {self.age} years old.\"\n",
    "    \n",
    "person1 = Person(name = \"John\", age= 30)\n",
    "\n",
    "print(person1.name, person1.age)\n",
    "print(person1)\n",
    "\n",
    "person2 = Person('Person1', 25)\n",
    "print(person2, person2.somet_attr)\n",
    "\n",
    "person2.salary = 90000\n",
    "\n",
    "print(person2.salary)\n",
    "class Employee(Person):\n",
    "    def __init__(self, name, age, salary):\n",
    "        super().__init__(name, age)\n",
    "        self.salary = salary\n",
    "\n",
    "    def say_hello(self):\n",
    "        super().say_hello()\n",
    "        print(f\"My salary is {self.salary} dollars.\")\n",
    "\n",
    "employee1 = Employee(\"Jane\", 25, 50000)\n",
    "employee1.say_hello()"
   ]
  },
  {
   "cell_type": "code",
   "execution_count": 2,
   "metadata": {},
   "outputs": [
    {
     "name": "stdout",
     "output_type": "stream",
     "text": [
      "Довжина кола 31.400000000000002 см.\n",
      "Довжина кола 78.5 см кв.\n"
     ]
    }
   ],
   "source": [
    "class Figure(object):\n",
    "    def __init__(self, name):\n",
    "        self.name = name\n",
    "\n",
    "class Kolo(Figure):\n",
    "    def __init__(self, name, radius):\n",
    "        super().__init__(name)\n",
    "        self.radius = radius\n",
    "    def lenght(self):\n",
    "        print(f\"Довжина кола {2*3.14*self.radius} см.\")\n",
    "    def sq(self):\n",
    "        print(f\"Довжина кола {3.14*self.radius**2} см кв.\")\n",
    "\n",
    "kolo1=Kolo('Kolo', 5)\n",
    "kolo1.lenght()\n",
    "kolo1.sq()"
   ]
  },
  {
   "cell_type": "code",
   "execution_count": 7,
   "metadata": {},
   "outputs": [
    {
     "name": "stdout",
     "output_type": "stream",
     "text": [
      "Hello, my name is John\n",
      "I work as Accountant and my salary is 5000 dollars.\n",
      "My new salary is 6000 dollars.\n"
     ]
    },
    {
     "ename": "AttributeError",
     "evalue": "'Employee' object has no attribute 'mro'",
     "output_type": "error",
     "traceback": [
      "\u001b[1;31m---------------------------------------------------------------------------\u001b[0m",
      "\u001b[1;31mAttributeError\u001b[0m                            Traceback (most recent call last)",
      "\u001b[1;32mc:\\Users\\Analytic\\Desktop\\lesson\\Untitled-2.ipynb Ячейка 7\u001b[0m line \u001b[0;36m2\n\u001b[0;32m     <a href='vscode-notebook-cell:/c%3A/Users/Analytic/Desktop/lesson/Untitled-2.ipynb#W6sZmlsZQ%3D%3D?line=21'>22</a>\u001b[0m empl1\u001b[39m.\u001b[39msay_hello()\n\u001b[0;32m     <a href='vscode-notebook-cell:/c%3A/Users/Analytic/Desktop/lesson/Untitled-2.ipynb#W6sZmlsZQ%3D%3D?line=22'>23</a>\u001b[0m empl1\u001b[39m.\u001b[39msalary_inc(\u001b[39m1000\u001b[39m)\n\u001b[1;32m---> <a href='vscode-notebook-cell:/c%3A/Users/Analytic/Desktop/lesson/Untitled-2.ipynb#W6sZmlsZQ%3D%3D?line=23'>24</a>\u001b[0m empl1\u001b[39m.\u001b[39;49mmro()\n",
      "\u001b[1;31mAttributeError\u001b[0m: 'Employee' object has no attribute 'mro'"
     ]
    }
   ],
   "source": [
    "class Person(object):\n",
    "    \n",
    "    def __init__(self, name):\n",
    "        self.name = name\n",
    "\n",
    "    def say_hello(self):\n",
    "        print( f\"Hello, my name is {self.name}\")\n",
    "\n",
    "class Employee(Person):\n",
    "    def __init__(self, name, position, salary):\n",
    "        super().__init__(name)\n",
    "        self.position = position\n",
    "        self.salary = salary\n",
    "    def say_hello(self):\n",
    "        super().say_hello()\n",
    "        print(f\"I work as {self.position} and my salary is {self.salary} dollars.\")\n",
    "    def salary_inc(self,inc):\n",
    "        self.salary+=inc\n",
    "        print(f\"My new salary is {self.salary} dollars.\")\n",
    "        \n",
    "empl1=Employee('John', 'Accountant', 5000)\n",
    "empl1.say_hello()\n",
    "empl1.salary_inc(1000)\n",
    "empl1.mro()"
   ]
  },
  {
   "cell_type": "code",
   "execution_count": 1,
   "metadata": {},
   "outputs": [
    {
     "name": "stdout",
     "output_type": "stream",
     "text": [
      "Books name: Kobzar \n",
      "Author: T.Shevchenko \n",
      "Year of book: 1840\n"
     ]
    }
   ],
   "source": [
    "#7\n",
    "class Book(object):\n",
    "    def __init__(self, title, author, year):\n",
    "        self.title = title\n",
    "        self.author = author\n",
    "        self.year = year\n",
    "        \n",
    "    def inform(self):\n",
    "        print( f\"Books name: {self.title} \\nAuthor: {self.author} \\nYear of book: {self.year}\")\n",
    "        \n",
    "book1=Book('Kobzar', 'T.Shevchenko', 1840)\n",
    "book1.inform()\n"
   ]
  },
  {
   "cell_type": "code",
   "execution_count": 3,
   "metadata": {},
   "outputs": [
    {
     "name": "stdout",
     "output_type": "stream",
     "text": [
      "Прямокутник з довжиною 5 і шириною 6 має площу 30.\n"
     ]
    }
   ],
   "source": [
    "#8\n",
    "class Figure(object):\n",
    "    def __init__(self, name):\n",
    "        self.name = name\n",
    "\n",
    "    def get_name(self):\n",
    "        return self.name\n",
    "    \n",
    "    def calculate_area(self):\n",
    "        pass\n",
    "\n",
    "class RectangleArea(Figure):\n",
    "    def __init__(self, name, length, width):\n",
    "        super().__init__(name)\n",
    "        self.length = length\n",
    "        self.width = width\n",
    "\n",
    "    def calculate_area(self):\n",
    "        return self.length * self.width\n",
    "\n",
    "\n",
    "rectangle = RectangleArea(\"Прямокутник\", 5, 6)\n",
    "area = rectangle.calculate_area()\n",
    "\n",
    "print(f\"{rectangle.get_name()} з довжиною {rectangle.length} і шириною {rectangle.width} має площу {area}.\")\n"
   ]
  },
  {
   "cell_type": "code",
   "execution_count": 5,
   "metadata": {},
   "outputs": [
    {
     "name": "stdout",
     "output_type": "stream",
     "text": [
      "Рахунок 12345 відкритий для Іван Петрович з початковим балансом 1000.0.\n",
      "Рахунок 67890 відкритий для Марія Іванівна з початковим балансом 500.0.\n",
      "Список рахунків у банку EXIM:\n",
      "Рахунок 12345: Власник - Іван Петрович, Баланс - 1000.0\n",
      "Рахунок 67890: Власник - Марія Іванівна, Баланс - 500.0\n",
      "Рахунок 12345 закритий.\n",
      "Список рахунків у банку EXIM:\n",
      "Рахунок 67890: Власник - Марія Іванівна, Баланс - 500.0\n"
     ]
    }
   ],
   "source": [
    "#9\n",
    "class Bank(object):\n",
    "    def __init__(self, name):\n",
    "        self.name = name\n",
    "        self.accounts={}\n",
    "    \n",
    "    def open_acc(self, account_number, account_name, initial_balance=0.0):\n",
    "        if account_number not in self.accounts:\n",
    "            self.accounts[account_number] = {'holder': account_name, 'balance': initial_balance}\n",
    "            print(f\"Рахунок {account_number} відкритий для {account_name} з початковим балансом {initial_balance}.\")\n",
    "        else:\n",
    "            print(f\"Рахунок {account_number} вже існує.\")\n",
    "\n",
    "    def close_acc(self, account_number):\n",
    "        if account_number in self.accounts:\n",
    "            del self.accounts[account_number]\n",
    "            print(f\"Рахунок {account_number} закритий.\")\n",
    "        else:\n",
    "            print(f\"Рахунок {account_number} не існує.\")\n",
    "\n",
    "    def list_accounts(self):\n",
    "        print(f\"Список рахунків у банку {self.name}:\")\n",
    "        for account_number, account_info in self.accounts.items():\n",
    "            print(f\"Рахунок {account_number}: Власник - {account_info['holder']}, Баланс - {account_info['balance']}\")\n",
    "\n",
    "bank_name = input(\"Введіть назву банку: \")\n",
    "bank = Bank(bank_name)\n",
    "\n",
    "bank.open_acc(\"12345\", \"Іван\", 1000.0)\n",
    "bank.open_acc(\"67890\", \"Марія\", 500.0)\n",
    "bank.list_accounts()\n",
    "\n",
    "bank.close_acc(\"12345\")\n",
    "bank.list_accounts()"
   ]
  },
  {
   "cell_type": "code",
   "execution_count": 11,
   "metadata": {},
   "outputs": [
    {
     "name": "stdout",
     "output_type": "stream",
     "text": [
      "Ця фігура - Прямокутник і має 4 сторін(-и).\n",
      "Довжина: 5, Ширина: 3\n",
      "Периметр прямокутника: 16\n",
      "Площа прямокутника: 15\n",
      "\n",
      "Ця фігура - Коло\n",
      "Радіус: 4\n",
      "Периметр кола: 25.13272\n",
      "Площа кола: 50.26544\n"
     ]
    }
   ],
   "source": [
    "#10\n",
    "class Shape:\n",
    "    def __init__(self, name, sides):\n",
    "        self.name = name\n",
    "        self.sides = sides\n",
    "\n",
    "    def get_info(self):\n",
    "        if self.sides>2:\n",
    "            print(f\"Ця фігура - {self.name} і має {self.sides} сторін(-и).\")\n",
    "        else: print(f\"Ця фігура - Коло\")\n",
    "\n",
    "    def perimeter(self):\n",
    "        pass\n",
    "    \n",
    "    def area(self):\n",
    "        pass\n",
    "\n",
    "class Rectangle(Shape):\n",
    "    def __init__(self, length, width):\n",
    "        super().__init__(\"Прямокутник\", 4)\n",
    "        self.length = length\n",
    "        self.width = width\n",
    "\n",
    "    def get_info(self):\n",
    "        super().get_info()\n",
    "        print(f\"Довжина: {self.length}, Ширина: {self.width}\")\n",
    "\n",
    "    def perimeter(self):\n",
    "        print(f\"Периметр прямокутника: {2 * (self.length + self.width)}\")\n",
    "    \n",
    "    def area(self):\n",
    "        print(f\"Площа прямокутника: {(self.length * self.width)}\")\n",
    "\n",
    "class Circle(Shape):\n",
    "    def __init__(self, radius):\n",
    "        super().__init__(\"Коло\", 1)\n",
    "        self.radius = radius\n",
    "\n",
    "    def get_info(self):\n",
    "        super().get_info()\n",
    "        print(f\"Радіус: {self.radius}\")\n",
    "\n",
    "    def perimeter(self):\n",
    "        print(f\"Периметр кола: {2 * 3.14159 * self.radius}\")\n",
    "        \n",
    "    def area(self):\n",
    "        print(f\"Площа кола: {3.14159 * self.radius**2}\")\n",
    "\n",
    "\n",
    "rectangle = Rectangle(5, 3)\n",
    "circle = Circle(4)\n",
    "\n",
    "rectangle.get_info()\n",
    "rectangle.perimeter()\n",
    "rectangle.area()\n",
    "\n",
    "print()\n",
    "\n",
    "circle.get_info()\n",
    "circle.perimeter()\n",
    "circle.area()\n"
   ]
  }
 ],
 "metadata": {
  "kernelspec": {
   "display_name": "Python 3",
   "language": "python",
   "name": "python3"
  },
  "language_info": {
   "codemirror_mode": {
    "name": "ipython",
    "version": 3
   },
   "file_extension": ".py",
   "mimetype": "text/x-python",
   "name": "python",
   "nbconvert_exporter": "python",
   "pygments_lexer": "ipython3",
   "version": "3.11.6"
  }
 },
 "nbformat": 4,
 "nbformat_minor": 2
}
