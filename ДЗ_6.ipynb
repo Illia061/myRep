{
 "cells": [
  {
   "cell_type": "code",
   "execution_count": 16,
   "metadata": {},
   "outputs": [
    {
     "name": "stdout",
     "output_type": "stream",
     "text": [
      "Film                  object\n",
      "Genre                 object\n",
      "Lead Studio           object\n",
      "Audience score %       int64\n",
      "Profitability        float64\n",
      "Rotten Tomatoes %      int64\n",
      "Worldwide Gross       object\n",
      "Year                   int64\n",
      "dtype: object\n",
      "       Audience score %  Profitability  Rotten Tomatoes %         Year\n",
      "count         77.000000      77.000000          77.000000    77.000000\n",
      "mean          63.727273       4.599483          46.701299  2009.077922\n",
      "std           13.657113       8.031990          26.095001     1.354974\n",
      "min           35.000000       0.000000           3.000000  2007.000000\n",
      "25%           52.000000       1.751351          26.000000  2008.000000\n",
      "50%           64.000000       2.642353          45.000000  2009.000000\n",
      "75%           76.000000       5.103117          64.000000  2010.000000\n",
      "max           89.000000      66.934000          96.000000  2011.000000\n"
     ]
    }
   ],
   "source": [
    "import pandas as pd\n",
    "\n",
    "# Завантажте набір даних Movies\n",
    "url = 'https://gist.githubusercontent.com/tiangechen/b68782efa49a16edaf07dc2cdaa855ea/raw/0c794a9717f18b094eabab2cd6a6b9a226903577/movies.csv'\n",
    "df_movie = pd.read_csv(url)\n",
    "\n",
    "# Інформація про типи стовпців\n",
    "df_movie.head()\n",
    "print(df_movie.dtypes)\n",
    "# Статистика\n",
    "print(df_movie.describe())"
   ]
  },
  {
   "cell_type": "code",
   "execution_count": 17,
   "metadata": {},
   "outputs": [
    {
     "name": "stdout",
     "output_type": "stream",
     "text": [
      "Загальна кількість фільмів: 77\n",
      "Year\n",
      "2007    11\n",
      "2008    20\n",
      "2009    12\n",
      "2010    20\n",
      "2011    14\n",
      "Name: Film, dtype: int64\n"
     ]
    }
   ],
   "source": [
    "#Кількість фільмів\n",
    "print(f\"Загальна кількість фільмів: {df_movie.shape[0]}\")\n",
    "\n",
    "#Кількість фільмів по рокам\n",
    "print(df_movie.groupby('Year')['Film'].count())"
   ]
  },
  {
   "cell_type": "code",
   "execution_count": 13,
   "metadata": {},
   "outputs": [
    {
     "name": "stdout",
     "output_type": "stream",
     "text": [
      "Найменш прибуткові фільми:\n",
      "Найбільш прибуткові фільми:\n"
     ]
    },
    {
     "data": {
      "text/html": [
       "<div>\n",
       "<style scoped>\n",
       "    .dataframe tbody tr th:only-of-type {\n",
       "        vertical-align: middle;\n",
       "    }\n",
       "\n",
       "    .dataframe tbody tr th {\n",
       "        vertical-align: top;\n",
       "    }\n",
       "\n",
       "    .dataframe thead th {\n",
       "        text-align: right;\n",
       "    }\n",
       "</style>\n",
       "<table border=\"1\" class=\"dataframe\">\n",
       "  <thead>\n",
       "    <tr style=\"text-align: right;\">\n",
       "      <th></th>\n",
       "      <th>Film</th>\n",
       "      <th>Genre</th>\n",
       "      <th>Lead Studio</th>\n",
       "      <th>Audience score %</th>\n",
       "      <th>Profitability</th>\n",
       "      <th>Rotten Tomatoes %</th>\n",
       "      <th>Worldwide Gross</th>\n",
       "      <th>Year</th>\n",
       "    </tr>\n",
       "  </thead>\n",
       "  <tbody>\n",
       "    <tr>\n",
       "      <th>50</th>\n",
       "      <td>Life as We Know It</td>\n",
       "      <td>Comedy</td>\n",
       "      <td>Independent</td>\n",
       "      <td>62</td>\n",
       "      <td>2.530526</td>\n",
       "      <td>28</td>\n",
       "      <td>$96.16</td>\n",
       "      <td>2010</td>\n",
       "    </tr>\n",
       "    <tr>\n",
       "      <th>55</th>\n",
       "      <td>Killers</td>\n",
       "      <td>Action</td>\n",
       "      <td>Lionsgate</td>\n",
       "      <td>45</td>\n",
       "      <td>1.245333</td>\n",
       "      <td>11</td>\n",
       "      <td>$93.40</td>\n",
       "      <td>2010</td>\n",
       "    </tr>\n",
       "    <tr>\n",
       "      <th>36</th>\n",
       "      <td>No Reservations</td>\n",
       "      <td>Comedy</td>\n",
       "      <td>Warner Bros.</td>\n",
       "      <td>64</td>\n",
       "      <td>3.307180</td>\n",
       "      <td>39</td>\n",
       "      <td>$92.60</td>\n",
       "      <td>2007</td>\n",
       "    </tr>\n",
       "    <tr>\n",
       "      <th>74</th>\n",
       "      <td>A Dangerous Method</td>\n",
       "      <td>Drama</td>\n",
       "      <td>Independent</td>\n",
       "      <td>89</td>\n",
       "      <td>0.448645</td>\n",
       "      <td>79</td>\n",
       "      <td>$8.97</td>\n",
       "      <td>2011</td>\n",
       "    </tr>\n",
       "    <tr>\n",
       "      <th>39</th>\n",
       "      <td>My Week with Marilyn</td>\n",
       "      <td>Drama</td>\n",
       "      <td>The Weinstein Company</td>\n",
       "      <td>84</td>\n",
       "      <td>0.825800</td>\n",
       "      <td>83</td>\n",
       "      <td>$8.26</td>\n",
       "      <td>2011</td>\n",
       "    </tr>\n",
       "  </tbody>\n",
       "</table>\n",
       "</div>"
      ],
      "text/plain": [
       "                    Film   Genre            Lead Studio  Audience score %  \\\n",
       "50    Life as We Know It  Comedy            Independent                62   \n",
       "55               Killers  Action              Lionsgate                45   \n",
       "36       No Reservations  Comedy           Warner Bros.                64   \n",
       "74    A Dangerous Method   Drama            Independent                89   \n",
       "39  My Week with Marilyn   Drama  The Weinstein Company                84   \n",
       "\n",
       "    Profitability  Rotten Tomatoes % Worldwide Gross  Year  \n",
       "50       2.530526                 28         $96.16   2010  \n",
       "55       1.245333                 11         $93.40   2010  \n",
       "36       3.307180                 39         $92.60   2007  \n",
       "74       0.448645                 79          $8.97   2011  \n",
       "39       0.825800                 83          $8.26   2011  "
      ]
     },
     "execution_count": 13,
     "metadata": {},
     "output_type": "execute_result"
    }
   ],
   "source": [
    "#Інформація про найменш та найприбутковіші фільми:\n",
    "print(\"Найменш прибуткові фільми:\")\n",
    "df_movie.sort_values('Worldwide Gross').head(5)\n",
    "print(\"Найбільш прибуткові фільми:\")\n",
    "df_movie.sort_values('Worldwide Gross', ascending=False).head(5)"
   ]
  },
  {
   "cell_type": "code",
   "execution_count": 15,
   "metadata": {},
   "outputs": [
    {
     "data": {
      "text/plain": [
       "array(['Romance', 'Comedy', 'Drama', 'Animation', 'Fantasy', 'Action'],\n",
       "      dtype=object)"
      ]
     },
     "execution_count": 15,
     "metadata": {},
     "output_type": "execute_result"
    }
   ],
   "source": [
    "#Перевірка значень у стовпці \"Жанр\"\n",
    "df_movie['Genre'].unique()\n",
    "df_movie['Genre'] = df_movie['Genre'].replace(['romance', 'Romence'], 'Romance', regex=True)\n",
    "df_movie['Genre'] = df_movie['Genre'].replace(['comedy', 'Comdy'], 'Comedy', regex=True)\n",
    "df_movie['Genre'].unique()"
   ]
  },
  {
   "cell_type": "code",
   "execution_count": null,
   "metadata": {},
   "outputs": [],
   "source": [
    "#Збереження 10 найкращих комедій у новий CSV-файл:\n",
    "top_comedy=df_movie[df_movie['Genre'] == 'Comedy'].nlargest(10, 'Audience score %')\n",
    "top_comedy[['Film', 'Year', 'Lead Studio']].to_csv('top_comedies.csv', index=False)"
   ]
  }
 ],
 "metadata": {
  "kernelspec": {
   "display_name": "Python 3",
   "language": "python",
   "name": "python3"
  },
  "language_info": {
   "codemirror_mode": {
    "name": "ipython",
    "version": 3
   },
   "file_extension": ".py",
   "mimetype": "text/x-python",
   "name": "python",
   "nbconvert_exporter": "python",
   "pygments_lexer": "ipython3",
   "version": "3.11.6"
  }
 },
 "nbformat": 4,
 "nbformat_minor": 2
}
