{
 "cells": [
  {
   "cell_type": "code",
   "execution_count": null,
   "metadata": {},
   "outputs": [],
   "source": [
    "import numpy as np\n",
    "\n",
    "#Генеруємо матрицю\n",
    "matrix=np.random.randint(0, 101, size=(5, 5))\n",
    "\n",
    "print(\"Матриця:\")\n",
    "print(matrix)\n",
    "print()\n",
    "\n",
    "# Виводимо головну діагональ та її сумму\n",
    "print(\"Головна діагональ:\")\n",
    "sum_main_diag=0\n",
    "for i in range(min(matrix.shape[0], matrix.shape[1])):\n",
    "    sum_main_diag+=matrix[i, i]\n",
    "    print(\"  \"*i, matrix[i, i])\n",
    "\n",
    "print(f'Сума головної діагоналі: {sum_main_diag}')\n",
    "\n",
    "# Виводимо елементи другої діагоналі, які більше ніж сумма елементів головної\n",
    "print(\"Допоміжна діагональ:\")\n",
    "for i in range(min(matrix.shape[0], matrix.shape[1])):\n",
    "    if matrix[i, matrix.shape[1] - 1 - i]>sum_main_diag:\n",
    "        print(\"  \"*i, matrix[i, matrix.shape[1] - 1 - i])"
   ]
  }
 ],
 "metadata": {
  "language_info": {
   "name": "python"
  }
 },
 "nbformat": 4,
 "nbformat_minor": 2
}
