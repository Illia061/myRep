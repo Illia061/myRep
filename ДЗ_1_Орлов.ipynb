{
 "cells": [
  {
   "cell_type": "code",
   "execution_count": null,
   "metadata": {},
   "outputs": [],
   "source": [
    "#Завдання 1\n",
    "name=input('Enter your name:').strip()\n",
    "salary=int(input('Enter your salary:').strip())\n",
    "print(f'Річна зарплата {name} складає {salary*12}')"
   ]
  },
  {
   "cell_type": "code",
   "execution_count": 8,
   "metadata": {},
   "outputs": [
    {
     "name": "stdout",
     "output_type": "stream",
     "text": [
      "False\n"
     ]
    }
   ],
   "source": [
    "#Завдання 2\n",
    "num=int(input('Enter integer: ').strip())\n",
    "if num>=100 and num<=999 and num%2==0:\n",
    "    print('True')\n",
    "else: print('False')"
   ]
  },
  {
   "cell_type": "code",
   "execution_count": 17,
   "metadata": {},
   "outputs": [
    {
     "name": "stdout",
     "output_type": "stream",
     "text": [
      "032\n"
     ]
    }
   ],
   "source": [
    "#Завдання 3\n",
    "num=input('Enter integer from 101 to 999: ').strip()\n",
    "print(num[::-1])"
   ]
  },
  {
   "cell_type": "code",
   "execution_count": 18,
   "metadata": {},
   "outputs": [
    {
     "name": "stdout",
     "output_type": "stream",
     "text": [
      "9\n",
      "1\n",
      "20\n",
      "1.25\n",
      "1\n",
      "True\n"
     ]
    }
   ],
   "source": [
    "#Завдання 4\n",
    "num1=int(input('Enter first integer: ').strip())\n",
    "num2=int(input('Enter second integer: ').strip())\n",
    "print(num1+num2)\n",
    "print(num1-num2)\n",
    "print(num1*num2)\n",
    "print(num1/num2)\n",
    "print(num1%num2)\n",
    "if num1>=num2:\n",
    "    print('True')\n",
    "else: print('False')"
   ]
  }
 ],
 "metadata": {
  "kernelspec": {
   "display_name": "Python 3",
   "language": "python",
   "name": "python3"
  },
  "language_info": {
   "codemirror_mode": {
    "name": "ipython",
    "version": 3
   },
   "file_extension": ".py",
   "mimetype": "text/x-python",
   "name": "python",
   "nbconvert_exporter": "python",
   "pygments_lexer": "ipython3",
   "version": "3.11.6"
  }
 },
 "nbformat": 4,
 "nbformat_minor": 2
}
